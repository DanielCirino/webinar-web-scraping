{
 "cells": [
  {
   "cell_type": "markdown",
   "id": "d2a6121e",
   "metadata": {},
   "source": [
    "# Webinar Webscraping com Python\n",
    "### Uma introdução à extração de dados da web\n",
    "<table>\n",
    "    <tr>\n",
    "        <td width=\"200\"> \n",
    "            <div>\n",
    "                <img src=\"https://placehold.co/50x50/000000/ffffff?text=DC&font=roboto\"/>\n",
    "                <br/>\n",
    "                <h2>Daniel Cirino</h2>\n",
    "                <p>\n",
    "                    <b>LinkedIn</b>: <br/><a style=\"margin-left=5\" href=\"https://www.linkedin.com/in/it-daniel-cirino\">it-daniel-cirino</a>\n",
    "                </p>\n",
    "                <p>\n",
    "                    <b>Github</b>: <br/><a style=\"margin-left=5\" href=\"https://github.com/DanielCirino/\">DanielCirino</a>\n",
    "                </p>\n",
    "                <p>\n",
    "                    <b>Youtube</b>: <br/><a style=\"margin-left=5\" href=\"https://www.youtube.com/channel/UCxzibJdVC5-TtRnRQrgn0PA\">@danielcirino1409</a>\n",
    "                </p>\n",
    "                <p>\n",
    "                    <b>E-mail</b>: <br/><a style=\"margin-left=5\" href=\"mailto: daniel.ciriino.02@gmail.com\">daniel.cirino.02@gmail.com</a>\n",
    "                </p>\n",
    "            </div>\n",
    "        </td>\n",
    "        <td><p>\n",
    "        Graduado em Sistemas de Informação pelo Centro Universitário Senac - São Paulo, Pós Graduado em Ciência de Dados e Big Data pela PUC-MINAS. Já atuou em diversos projetos de migração de dados de processamento de cartão de crédito e desenvolvimento de aplicações para processamento de grande volumes de dados. Atualmente, atua como Product Owner no Banco BMG. Interessa-se por Engenharia e Análise de dados, Machine Learning e Inteligência Artificial,  Engenharia e Desenvolvimento de Software, Metodologias Ágeis.\n",
    "        </td></p>\n",
    "    </tr>\n",
    "</table>\n",
    "\n",
    "\n",
    "\n"
   ]
  },
  {
   "cell_type": "markdown",
   "id": "eaf0a85a",
   "metadata": {
    "tags": []
   },
   "source": [
    "# Agenda\n",
    "\n",
    "<ol>\n",
    "    <li>Dados Estruturados, não estruturados e semistruturados</li>\n",
    "    <li>HTML: O que é? Onde vive e o que come?</li>\n",
    "    <li>Seletores CSS</li>\n",
    "    <li>Requisições HTTP</li>\n",
    "    <li>Sites estáticos x Sites dinâmicos</li>\n",
    "    <li>Tecnologias utilizadas</li>\n",
    "    <li> Hands on</li>\n",
    "</ol>\n",
    "\n",
    "\n",
    "\n",
    "_______________\n",
    "\n",
    "* Introdução ao BeautifulSoup e outras bibliotecas de scraping em Python\n",
    "* Como lidar com sites que requerem autenticação e sessões de login\n",
    "* Como lidar com páginas que usam JavaScript para carregar dados dinamicamente\n",
    "* Como lidar com páginas com estruturas complexas e aninhadas\n",
    "* Como usar proxies e cabeçalhos personalizados para evitar bloqueios e identificar-se como um navegador\n",
    "* Como armazenar e processar os dados coletados em diferentes formatos (CSV, JSON, Banco de Dados)\n",
    "* Como implementar scraping de forma ética e respeitando os termos de serviço dos sites.\n",
    "* Como escalar o scraping para coletar grandes quantidades de dados e lidar com a execução paralela.\n",
    "    \n",
    "    Esses tópicos devem fornecer uma boa base para desenvolver habilidades em web scraping com Python. É importante lembrar sempre de respeitar os termos de serviço dos sites e evitar a coleta excessiva ou desautorizada de dados.\n"
   ]
  },
  {
   "cell_type": "markdown",
   "id": "be112128-9bee-476c-a26f-7d886c4af878",
   "metadata": {
    "tags": []
   },
   "source": [
    "# Tipos de dados\n",
    "\n",
    "<table>\n",
    "    <tr>\n",
    "        <th>Estruturados</th>\n",
    "        <th>Semi Estruturados</th>\n",
    "        <th>Não Estruturados</th>\n",
    "    </tr>\n",
    "    <tr>\n",
    "        <td><img src=\"https://thumbs.dreamstime.com/b/design-can-be-used-as-logo-icon-as-complement-to-design-diagram-database-logo-icon-design-129008651.jpg\" width=\"200\" /></td>\n",
    "        <td><img src=\"https://blog.nxfacil.com.br/wp-content/uploads/2018/07/xml-1.jpg\" width=\"200\" /></td>\n",
    "        <td><img src=\"https://korntraducoes.com.br/wp-content/uploads/2019/10/transcricao_de_audio_e_video_korn_traducoes.jpg\" width=\"200\" /></td>\n",
    "    </tr>\n",
    "    <tr>\n",
    "        <td>Possuem uma estrutura rígida e previamente definida</td>\n",
    "        <td>Possuem uma estrutura flexível, não são totalmente desestruturados e nem fortemente tipados</td>\n",
    "        <td>Sem estrutura pré-definida</td>\n",
    "    </tr>\n",
    "    <tr>\n",
    "        <td>Organização em relacionamentos e definição de mesmas descrições para doados de um mesmo grupo (atributos)</td>\n",
    "        <td>Auto-descritivo, o esquema de representação está junto com os dados</td>\n",
    "        <td>Cerca de 90% dos dados produzidos estão neste formato</td>\n",
    "    </tr>\n",
    "    <tr>\n",
    "        <td>Ex.: Banco de dados relacionais</td>\n",
    "        <td>Ex.: XML, Json, RDF, OWL</td>\n",
    "        <td>Ex.: Textos, áudios, vídeos, imagens, relatórios</td>\n",
    "    </tr>\n",
    "</table>"
   ]
  },
  {
   "cell_type": "markdown",
   "id": "573be38c-b5f6-4cd0-8660-5f9405934487",
   "metadata": {},
   "source": [
    "# O básico sobre HTML\n",
    "\n",
    "## O que é?\n",
    "HTML (Linguagem de marcação de hipertexto) é uma linguagem de marcação para construção de páginas na WEB,utilizada para anotar texto, imagem, vídeo e outros conteúdos. É comumente utilizada em conjunto com outras tecnologias como o CSS (para aparência e apresentação ou o Javascript (para funcionalidades e comportamento). Documentos HTML podem ser interpretados por navegadores.\n",
    "\n",
    "## Tags HTML\n",
    "Para fazer a marcação de uma página HTML, são utilizados elementos que formam o contéudo da página. O contúdo de um elemento é colocado entre uma tag de abertura (por exemplo ``<html>``) e uma tag de fechamento (por exemplo ``</html>``). As tags são utilizadas para informar ao navegador a estrutura do site, o estilo e o comportamento do site.\n",
    "Uma tag HTML pode receber um ou mais atributos que irão modificar sua estrutura ou funcionalidade, ou ainda indicar um <b>identificador</b> ou uma classe de estilo ao componente.\n",
    "\n",
    "### Exemplos de tags HTML\n",
    "* #### Tags estruturais\n",
    "    * ``<html>``\n",
    "    * ``<head>``\n",
    "    * ``<title>``\n",
    "    * ``<meta>``\n",
    "    * ``<body>``\n",
    "    * ``<header>``\n",
    "    * ``<footer>``\n",
    "    * ``<section>``\n",
    "    * ``<nav>``\n",
    "    * ``<div>``\n",
    "* #### Tags de conteúdo\n",
    "    * Tags de título\n",
    "        * ``<h1>`` a ``<h6>``\n",
    "    * Tags de texto\n",
    "      * ``<p>``\n",
    "      * ``<span>``\n",
    "      * ``<pre>``\n",
    "      * ``<b>``\n",
    "      * ``<i>``\n",
    "      * ``<br>``\n",
    "      * ``<hr>``\n",
    "    * Tag de link\n",
    "        * ``<p>Para acessar o Google, <a href=\"https://www.google.com\">clique aqui.</a></p>``\n",
    "    * Tags de multimídia\n",
    "        * ``<img src=\"imagens/imagem1.jpg\" alt=\"imagem 1 da minha página\">``\n",
    "        * ``<audio>``\n",
    "        * ``<video>``\n",
    "    * Tags de lista\n",
    "        * ``<ul>``, ``<ol>``\n",
    "        * ``<li>``\n",
    "    * Tags de formulário\n",
    "        * ``<form>``\n",
    "        * ``<input type=”text”>``\n",
    "        * ``<textarea></textarea>``\n",
    "* Tags de estilo e script\n",
    "    * ``<style>``\n",
    "    * ``<script>``\n",
    "\n",
    "## Exemplo de código HTML\n",
    "<img src=\"https://cdn.shortpixel.ai/spai/q_glossy+ret_img+to_auto/https://www.webhostingsecretrevealed.net/wp-content/uploads/html-codes.jpg\"/>\n",
    "\n",
    "\n",
    "\n",
    "\n",
    "* [Para saber mais sobre o HTML](https://developer.mozilla.org/pt-BR/docs/Web/HTML)\n",
    "* [E mais aqui](https://www.homehost.com.br/blog/tutoriais/tags-html/#:~:text=As%20tags%20HTML%20s%C3%A3o%20divididas,como%20estrutura%20.)"
   ]
  },
  {
   "cell_type": "markdown",
   "id": "f0d88a9f-1dd1-4690-9d3e-5a913bb03ca4",
   "metadata": {
    "tags": []
   },
   "source": [
    "# Identificando elementos HTML com seletores CSS\n",
    "\n",
    "CSS (Cascade Style Sheet) é uma linguagem de estilo usada para definir a aparência dos elementos de uma página HTML.\n",
    "\n",
    "<img src=\"https://learnwebcode.com/wp-content/uploads/2010/02/anatomy-of-a-css-rule.gif\"/>\n",
    "<hr>\n",
    "<img src=\"https://ptgmedia.pearsoncmg.com/images/chap4_9780136412298/elementLinks/f0114-01.jpg\"/>\n",
    "\n",
    "\n",
    "* [Mais sobre seletores CSS aqui](https://code.tutsplus.com/pt/tutorials/the-30-css-selectors-you-must-memorize--net-16048)"
   ]
  },
  {
   "cell_type": "markdown",
   "id": "bd6ef4c2-0e1e-435b-ab47-7c4c13f78529",
   "metadata": {
    "tags": []
   },
   "source": [
    "# Requisições HTTP\n",
    "\n",
    "<quote>\n",
    "    Requisições HTTP são mensagens enviadas pelo cliente para iniciar uma ação no servidor.\n",
    "</quote>\n",
    "\n",
    "#### Exemplo de uma requisição HTTP\n",
    "<img src=\"https://www.azion.com/static/images/uploads/ds-1191-graphic-08-http-conditional-requests.png\"/>\n",
    "\n",
    "* [Mais sobre requisições HTTP aqui](https://developer.mozilla.org/pt-BR/docs/Web/HTTP/Messages)"
   ]
  },
  {
   "cell_type": "markdown",
   "id": "8bf438a6-364f-4e52-bcb1-38b9e74df8c5",
   "metadata": {
    "tags": []
   },
   "source": [
    "# Sites estáticos x Sites dinâmicos\n",
    "\n",
    "<table>\n",
    "    <tr>\n",
    "        <th><h3>Estático</h3></th>\n",
    "        <th><h3>Dinâmico</h3></th>\n",
    "    </tr>\n",
    "    <tr>\n",
    "        <td><center><img src=\"https://adamtheautomator.com/wp-content/uploads/2020/09/Untitled-2020-09-21T155938.067.png\" width=\"350\"/></center></td>\n",
    "        <td><center><img src=\"https://adamtheautomator.com/wp-content/uploads/2020/09/Untitled-2020-09-21T160015.253.png\" width=\"350\"/></center>\n",
    "        </td>\n",
    "    </tr>\n",
    "    <tr>\n",
    "        <td>Possui conteúdo estável, onde cada usuário vê exatamente a mesma coisa em cada página individual.</td>\n",
    "        <td> O conteúdo é carregado de forma dinâmica, permitindo que ele mude de acordo com o usuário.</td>\n",
    "    </tr>\n",
    "</table>\n",
    "\n",
    "## Exemplo de site dinâmico\n",
    "https://www.pokemon.com/us/pokedex\n",
    "\n",
    "## Site estático do projeto\n",
    "https://pokemondb.net/pokedex/national\n"
   ]
  },
  {
   "cell_type": "markdown",
   "id": "5082cdb1-dd11-4abb-82bf-18cfc0836c02",
   "metadata": {
    "tags": []
   },
   "source": [
    "# Tecnologias utilizadas\n",
    "\n",
    "<table>\n",
    "    <tr>\n",
    "        <td><img src=\"https://logosmarcas.net/wp-content/uploads/2021/10/Python-Logo-650x366.png\" width=\"300\"/></td>\n",
    "        <td>Python é uma linguagem de programação de alto nível, interpretada de script, imperativa, orientada a objetos, funcional, de tipagem dinâmica e forte. Foi lançada por Guido van Rossum em 1991</td>\n",
    "        <td><a href=\"https://www.python.org/\">Documentação</a></td>\n",
    "    </tr>\n",
    "    <tr>\n",
    "        <td><img src=\"https://upload.wikimedia.org/wikipedia/commons/a/aa/Requests_Python_Logo.png\" width=\"200\"/></td>\n",
    "        <td>Requests é uma biblioteca HTTP para a linguagem de programação Python. O objetivo do projeto é tornar as solicitações HTTP mais simples e mais fáceis de usar. A versão atual é 2.28.0. Requests é liberado sob a Licença Apache 2.0. Requests é uma das bibliotecas Python mais populares que não está incluída no Python.</td>\n",
    "        <td><a href=\"https://www.python.org/\">Documentação</a></td>\n",
    "    </tr>\n",
    "    <tr>\n",
    "        <td><img src=\"https://cdn.analyticsvidhya.com/wp-content/uploads/2021/04/56856232112.png\" width=\"300\"/></td>\n",
    "        <td>Beautiful Soup é um pacote Python para analisar documentos HTML e XML. Ele cria uma árvore de análise para páginas analisadas que podem ser usadas para extrair dados de HTML, o que é útil para web scraping.</td>\n",
    "        <td><a href=\"https://www.python.org/\">Documentação</a></td>\n",
    "    </tr>\n",
    "</table>"
   ]
  },
  {
   "cell_type": "markdown",
   "id": "2bc40a4c-cdff-4c2c-ab75-01b62a631af6",
   "metadata": {
    "tags": []
   },
   "source": [
    "# Hands On\n",
    "[Repositório do projeto no Github](https://github.com/DanielCirino/webinar-web-scraping)\n",
    "\n",
    "## Objetivo\n",
    "Criar uma base de dados com dados com informações sobre POKÉMONS extraídas de um site da internet. Esta base deverá conter as informações abaixo:\n",
    "* Id do Pokémon (Número)\n",
    "* Nome\n",
    "* Url da imagem\n",
    "* Tipo\n",
    "* Url para os detalhes\n",
    "* Geração\n",
    "* Espécie\n",
    "* Altura em metros\n",
    "* Peso em quilos\n",
    "* Pontos de HP\n",
    "* Pontos de Ataque\n",
    "* Pontos de Defesa\n",
    "* Pontos de Velocidade\n",
    "* Pontos totais"
   ]
  },
  {
   "cell_type": "code",
   "execution_count": 1,
   "id": "0b5fbf6b",
   "metadata": {
    "tags": []
   },
   "outputs": [],
   "source": [
    "import requests\n",
    "from bs4 import BeautifulSoup as bs4"
   ]
  }
 ],
 "metadata": {
  "kernelspec": {
   "display_name": "Python 3 (ipykernel)",
   "language": "python",
   "name": "python3"
  },
  "language_info": {
   "codemirror_mode": {
    "name": "ipython",
    "version": 3
   },
   "file_extension": ".py",
   "mimetype": "text/x-python",
   "name": "python",
   "nbconvert_exporter": "python",
   "pygments_lexer": "ipython3",
   "version": "3.10.11"
  }
 },
 "nbformat": 4,
 "nbformat_minor": 5
}

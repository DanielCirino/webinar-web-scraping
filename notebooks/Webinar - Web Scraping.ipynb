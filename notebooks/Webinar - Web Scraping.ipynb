{
 "cells": [
  {
   "cell_type": "markdown",
   "id": "d2a6121e",
   "metadata": {},
   "source": [
    "# Webinar Webscraping com Python\n",
    "### Uma introdução à extração de dados da web\n",
    "<table>\n",
    "    <tr>\n",
    "        <td width=\"200\"> \n",
    "            <div>\n",
    "                <img src=\"https://placehold.co/50x50/000000/ffffff?text=DC&font=roboto\"/>\n",
    "                <br/>\n",
    "                <h2>Daniel Cirino</h2>\n",
    "                <p>\n",
    "                    <b>LinkedIn</b>: <br/><a style=\"margin-left=5\" href=\"https://www.linkedin.com/in/it-daniel-cirino\">it-daniel-cirino</a>\n",
    "                </p>\n",
    "                <p>\n",
    "                    <b>Github</b>: <br/><a style=\"margin-left=5\" href=\"https://github.com/DanielCirino/\">DanielCirino</a>\n",
    "                </p>\n",
    "                <p>\n",
    "                    <b>Youtube</b>: <br/><a style=\"margin-left=5\" href=\"https://www.youtube.com/channel/UCxzibJdVC5-TtRnRQrgn0PA\">@danielcirino1409</a>\n",
    "                </p>\n",
    "                <p>\n",
    "                    <b>E-mail</b>: <br/><a style=\"margin-left=5\" href=\"mailto: daniel.ciriino.02@gmail.com\">daniel.cirino.02@gmail.com</a>\n",
    "                </p>\n",
    "            </div>\n",
    "        </td>\n",
    "        <td><p>\n",
    "        Graduado em Sistemas de Informação pelo Centro Universitário Senac - São Paulo, Pós Graduado em Ciência de Dados e Big Data pela PUC-MINAS. Já atuou em diversos projetos de migração de dados de processamento de cartão de crédito e desenvolvimento de aplicações para processamento de grande volumes de dados. Atualmente, atua como Product Owner no Banco BMG. Interessa-se por Engenharia e Análise de dados, Machine Learning e Inteligência Artificial,  Engenharia e Desenvolvimento de Software, Metodologias Ágeis.\n",
    "        </td></p>\n",
    "    </tr>\n",
    "</table>\n",
    "\n",
    "\n",
    "\n"
   ]
  },
  {
   "cell_type": "markdown",
   "id": "eaf0a85a",
   "metadata": {
    "tags": []
   },
   "source": [
    "# Agenda\n",
    "\n",
    "<ol>\n",
    "    <li>Dados Estruturados, não estruturados e semistruturados</li>\n",
    "    <li>HTML: O que é? Onde vive e o que come?</li>\n",
    "    <li>Seletores CSS</li>\n",
    "    <li>Requisições HTTP</li>\n",
    "    <li>Sites estáticos x Sites dinâmicos</li>\n",
    "    <li>Tecnologias utilizadas</li>\n",
    "    <li> Hands on</li>\n",
    "</ol>\n"
   ]
  },
  {
   "cell_type": "markdown",
   "id": "be112128-9bee-476c-a26f-7d886c4af878",
   "metadata": {
    "tags": []
   },
   "source": [
    "# Tipos de dados\n",
    "\n",
    "<table>\n",
    "    <tr>\n",
    "        <th>Estruturados</th>\n",
    "        <th>Semi Estruturados</th>\n",
    "        <th>Não Estruturados</th>\n",
    "    </tr>\n",
    "    <tr>\n",
    "        <td><img src=\"https://thumbs.dreamstime.com/b/design-can-be-used-as-logo-icon-as-complement-to-design-diagram-database-logo-icon-design-129008651.jpg\" width=\"200\" /></td>\n",
    "        <td><img src=\"https://blog.nxfacil.com.br/wp-content/uploads/2018/07/xml-1.jpg\" width=\"200\" /></td>\n",
    "        <td><img src=\"https://korntraducoes.com.br/wp-content/uploads/2019/10/transcricao_de_audio_e_video_korn_traducoes.jpg\" width=\"200\" /></td>\n",
    "    </tr>\n",
    "    <tr>\n",
    "        <td>Possuem uma estrutura rígida e previamente definida</td>\n",
    "        <td>Possuem uma estrutura flexível, não são totalmente desestruturados e nem fortemente tipados</td>\n",
    "        <td>Sem estrutura pré-definida</td>\n",
    "    </tr>\n",
    "    <tr>\n",
    "        <td>Organização em relacionamentos e definição de mesmas descrições para doados de um mesmo grupo (atributos)</td>\n",
    "        <td>Auto-descritivo, o esquema de representação está junto com os dados</td>\n",
    "        <td>Cerca de 90% dos dados produzidos estão neste formato</td>\n",
    "    </tr>\n",
    "    <tr>\n",
    "        <td>Ex.: Banco de dados relacionais</td>\n",
    "        <td>Ex.: XML, Json, RDF, OWL</td>\n",
    "        <td>Ex.: Textos, áudios, vídeos, imagens, relatórios</td>\n",
    "    </tr>\n",
    "</table>"
   ]
  },
  {
   "cell_type": "markdown",
   "id": "573be38c-b5f6-4cd0-8660-5f9405934487",
   "metadata": {},
   "source": [
    "# O básico sobre HTML\n",
    "\n",
    "## O que é?\n",
    "HTML (Linguagem de marcação de hipertexto) é uma linguagem de marcação para construção de páginas na WEB,utilizada para anotar texto, imagem, vídeo e outros conteúdos. É comumente utilizada em conjunto com outras tecnologias como o CSS (para aparência e apresentação ou o Javascript (para funcionalidades e comportamento). Documentos HTML podem ser interpretados por navegadores.\n",
    "\n",
    "## Tags HTML\n",
    "Para fazer a marcação de uma página HTML, são utilizados elementos que formam o contéudo da página. O contúdo de um elemento é colocado entre uma tag de abertura (por exemplo ``<html>``) e uma tag de fechamento (por exemplo ``</html>``). As tags são utilizadas para informar ao navegador a estrutura do site, o estilo e o comportamento do site.\n",
    "Uma tag HTML pode receber um ou mais atributos que irão modificar sua estrutura ou funcionalidade, ou ainda indicar um <b>identificador</b> ou uma classe de estilo ao componente.\n",
    "\n",
    "### Exemplos de tags HTML\n",
    "* #### Tags estruturais\n",
    "    * ``<html>``\n",
    "    * ``<head>``\n",
    "    * ``<title>``\n",
    "    * ``<meta>``\n",
    "    * ``<body>``\n",
    "    * ``<header>``\n",
    "    * ``<footer>``\n",
    "    * ``<section>``\n",
    "    * ``<nav>``\n",
    "    * ``<div>``\n",
    "* #### Tags de conteúdo\n",
    "    * Tags de título\n",
    "        * ``<h1>`` a ``<h6>``\n",
    "    * Tags de texto\n",
    "      * ``<p>``\n",
    "      * ``<span>``\n",
    "      * ``<pre>``\n",
    "      * ``<b>``\n",
    "      * ``<i>``\n",
    "      * ``<br>``\n",
    "      * ``<hr>``\n",
    "    * Tag de link\n",
    "        * ``<p>Para acessar o Google, <a href=\"https://www.google.com\">clique aqui.</a></p>``\n",
    "    * Tags de multimídia\n",
    "        * ``<img src=\"imagens/imagem1.jpg\" alt=\"imagem 1 da minha página\">``\n",
    "        * ``<audio>``\n",
    "        * ``<video>``\n",
    "    * Tags de lista\n",
    "        * ``<ul>``, ``<ol>``\n",
    "        * ``<li>``\n",
    "    * Tags de formulário\n",
    "        * ``<form>``\n",
    "        * ``<input type=”text”>``\n",
    "        * ``<textarea></textarea>``\n",
    "* Tags de estilo e script\n",
    "    * ``<style>``\n",
    "    * ``<script>``\n",
    "\n",
    "## Exemplo de código HTML\n",
    "<img src=\"https://cdn.shortpixel.ai/spai/q_glossy+ret_img+to_auto/https://www.webhostingsecretrevealed.net/wp-content/uploads/html-codes.jpg\"/>\n",
    "\n",
    "\n",
    "\n",
    "\n",
    "* [Para saber mais sobre o HTML](https://developer.mozilla.org/pt-BR/docs/Web/HTML)\n",
    "* [E mais aqui](https://www.homehost.com.br/blog/tutoriais/tags-html/#:~:text=As%20tags%20HTML%20s%C3%A3o%20divididas,como%20estrutura%20.)"
   ]
  },
  {
   "cell_type": "markdown",
   "id": "f0d88a9f-1dd1-4690-9d3e-5a913bb03ca4",
   "metadata": {
    "tags": []
   },
   "source": [
    "# Identificando elementos HTML com seletores CSS\n",
    "\n",
    "CSS (Cascade Style Sheet) é uma linguagem de estilo usada para definir a aparência dos elementos de uma página HTML.\n",
    "\n",
    "<img src=\"https://learnwebcode.com/wp-content/uploads/2010/02/anatomy-of-a-css-rule.gif\"/>\n",
    "<hr>\n",
    "<img src=\"https://ptgmedia.pearsoncmg.com/images/chap4_9780136412298/elementLinks/f0114-01.jpg\"/>\n",
    "\n",
    "\n",
    "* [Mais sobre seletores CSS aqui](https://code.tutsplus.com/pt/tutorials/the-30-css-selectors-you-must-memorize--net-16048)"
   ]
  },
  {
   "cell_type": "markdown",
   "id": "bd6ef4c2-0e1e-435b-ab47-7c4c13f78529",
   "metadata": {
    "tags": []
   },
   "source": [
    "# Requisições HTTP\n",
    "\n",
    "<quote>\n",
    "    Requisições HTTP são mensagens enviadas pelo cliente para iniciar uma ação no servidor.\n",
    "</quote>\n",
    "\n",
    "#### Exemplo de uma requisição HTTP\n",
    "<img src=\"https://www.azion.com/static/images/uploads/ds-1191-graphic-08-http-conditional-requests.png\"/>\n",
    "\n",
    "* [Mais sobre requisições HTTP aqui](https://developer.mozilla.org/pt-BR/docs/Web/HTTP/Messages)"
   ]
  },
  {
   "cell_type": "markdown",
   "id": "8bf438a6-364f-4e52-bcb1-38b9e74df8c5",
   "metadata": {
    "tags": []
   },
   "source": [
    "# Sites estáticos x Sites dinâmicos\n",
    "\n",
    "<table>\n",
    "    <tr>\n",
    "        <th><h3>Estático</h3></th>\n",
    "        <th><h3>Dinâmico</h3></th>\n",
    "    </tr>\n",
    "    <tr>\n",
    "        <td><center><img src=\"https://adamtheautomator.com/wp-content/uploads/2020/09/Untitled-2020-09-21T155938.067.png\" width=\"350\"/></center></td>\n",
    "        <td><center><img src=\"https://adamtheautomator.com/wp-content/uploads/2020/09/Untitled-2020-09-21T160015.253.png\" width=\"350\"/></center>\n",
    "        </td>\n",
    "    </tr>\n",
    "    <tr>\n",
    "        <td>Possui conteúdo estável, onde cada usuário vê exatamente a mesma coisa em cada página individual.</td>\n",
    "        <td> O conteúdo é carregado de forma dinâmica, permitindo que ele mude de acordo com o usuário.</td>\n",
    "    </tr>\n",
    "</table>\n",
    "\n",
    "## Exemplo de site dinâmico\n",
    "https://www.pokemon.com/us/pokedex\n",
    "\n",
    "## Site estático do projeto\n",
    "https://pokemondb.net/pokedex/national\n"
   ]
  },
  {
   "cell_type": "markdown",
   "id": "5082cdb1-dd11-4abb-82bf-18cfc0836c02",
   "metadata": {
    "tags": []
   },
   "source": [
    "# Tecnologias utilizadas\n",
    "\n",
    "<table>\n",
    "    <tr>\n",
    "        <td><img src=\"https://logosmarcas.net/wp-content/uploads/2021/10/Python-Logo-650x366.png\" width=\"300\"/></td>\n",
    "        <td>Python é uma linguagem de programação de alto nível, interpretada de script, imperativa, orientada a objetos, funcional, de tipagem dinâmica e forte. Foi lançada por Guido van Rossum em 1991</td>\n",
    "        <td><a href=\"https://www.python.org/\">Documentação</a></td>\n",
    "    </tr>\n",
    "    <tr>\n",
    "        <td><img src=\"https://upload.wikimedia.org/wikipedia/commons/a/aa/Requests_Python_Logo.png\" width=\"200\"/></td>\n",
    "        <td>Requests é uma biblioteca HTTP para a linguagem de programação Python. O objetivo do projeto é tornar as solicitações HTTP mais simples e mais fáceis de usar. A versão atual é 2.28.0. Requests é liberado sob a Licença Apache 2.0. Requests é uma das bibliotecas Python mais populares que não está incluída no Python.</td>\n",
    "        <td><a href=\"https://requests.readthedocs.io/\">Documentação</a></td>\n",
    "    </tr>\n",
    "    <tr>\n",
    "        <td><img src=\"https://cdn.analyticsvidhya.com/wp-content/uploads/2021/04/56856232112.png\" width=\"300\"/></td>\n",
    "        <td>Beautiful Soup é um pacote Python para analisar documentos HTML e XML. Ele cria uma árvore de análise para páginas analisadas que podem ser usadas para extrair dados de HTML, o que é útil para web scraping.</td>\n",
    "        <td><a href=\"https://beautiful-soup-4.readthedocs.io/\">Documentação</a></td>\n",
    "    </tr>\n",
    "</table>"
   ]
  },
  {
   "cell_type": "markdown",
   "id": "2bc40a4c-cdff-4c2c-ab75-01b62a631af6",
   "metadata": {
    "tags": []
   },
   "source": [
    "# Mãos à massa\n",
    "[Repositório do projeto no Github](https://github.com/DanielCirino/webinar-web-scraping)\n",
    "\n",
    "## Objetivo\n",
    "Criar uma base de dados com dados com informações sobre POKÉMONS extraídas de um site da internet. Esta base deverá conter as informações abaixo:\n",
    "* Id do Pokémon (Número)\n",
    "* Nome\n",
    "* Url da imagem\n",
    "* Tipo\n",
    "* Url para os detalhes\n",
    "* Geração\n",
    "* Espécie\n",
    "* Altura em metros\n",
    "* Peso em quilos\n",
    "* Pontos de HP\n",
    "* Pontos de Ataque\n",
    "* Pontos de Defesa\n",
    "* Pontos de Velocidade\n",
    "* Pontos totais"
   ]
  },
  {
   "cell_type": "code",
   "execution_count": 3,
   "id": "0b5fbf6b",
   "metadata": {
    "tags": []
   },
   "outputs": [],
   "source": [
    "import requests\n",
    "from bs4 import BeautifulSoup as bs4\n",
    "#bibliotecas para análise de dados\n",
    "import pandas as pd\n",
    "import seaborn as sns\n",
    "import matplotlib.pyplot as plt\n",
    "\n",
    "from IPython.display import clear_output\n",
    "import csv"
   ]
  },
  {
   "cell_type": "code",
   "execution_count": 5,
   "id": "bd7572d0-bc11-49a2-837f-d01157a0ca29",
   "metadata": {
    "tags": []
   },
   "outputs": [],
   "source": [
    "urlBase = \"https://pokemondb.net\"\n",
    "session = requests.Session()\n",
    "\n",
    "def fazerRequisicao(url:str):\n",
    "    try:\n",
    "        headers = {\"User-Agent\":\"Mozilla/5.0 (Macintosh; Intel Mac OS X 10_15_7) AppleWebKit/537.36 (KHTML, like Gecko) Chrome/112.0.0.0 Safari/537.36\"}\n",
    "        respostaHttp = session.get(url,headers=headers)\n",
    "        assert respostaHttp.status_code==200\n",
    "\n",
    "        conteudoHtml = respostaHttp.content\n",
    "        docHtml = bs4(conteudoHtml, 'html.parser')\n",
    "        return docHtml\n",
    "    except Exception as e:\n",
    "        print(e)\n",
    "        raise e\n"
   ]
  },
  {
   "cell_type": "code",
   "execution_count": 6,
   "id": "647516da-3767-427a-8027-c17a775393f4",
   "metadata": {
    "tags": []
   },
   "outputs": [
    {
     "name": "stdout",
     "output_type": "stream",
     "text": [
      "List of Pokémon (sprites gallery) | Pokémon Database\n"
     ]
    }
   ],
   "source": [
    "docHtml = fazerRequisicao(f\"{urlBase}/pokedex/national\")\n",
    "print(docHtml.title.text)"
   ]
  },
  {
   "cell_type": "code",
   "execution_count": 9,
   "id": "a76629dc-6fc2-4040-a1a0-894cc28c253e",
   "metadata": {
    "tags": []
   },
   "outputs": [],
   "source": [
    "CSS_INFOCARDS=\"div.infocard\"\n",
    "\n",
    "CSS_IMAGEM=\"span.infocard-lg-img a picture img\"\n",
    "\n",
    "CSS_DADOS_POKEMON=\"span.infocard-lg-data\"\n",
    "CSS_LINK=f\"{CSS_DADOS_POKEMON} a.ent-name\"\n",
    "CSS_CLASSES=f\"{CSS_DADOS_POKEMON} small a.itype\""
   ]
  },
  {
   "cell_type": "code",
   "execution_count": 12,
   "id": "1191d431-a2ef-4417-8ec4-bbd7f3a94a2e",
   "metadata": {
    "tags": []
   },
   "outputs": [
    {
     "data": {
      "text/plain": [
       "<div class=\"infocard\"><span class=\"infocard-lg-img\"><a href=\"/pokedex/bulbasaur\"><picture><source srcset=\"https://img.pokemondb.net/sprites/home/normal/2x/avif/bulbasaur.avif\" type=\"image/avif\"/><img alt=\"Bulbasaur\" class=\"img-fixed img-sprite\" loading=\"lazy\" src=\"https://img.pokemondb.net/sprites/home/normal/2x/bulbasaur.jpg\"/></picture></a></span><span class=\"infocard-lg-data text-muted\"><small>#0001</small><br/> <a class=\"ent-name\" href=\"/pokedex/bulbasaur\">Bulbasaur</a><br/> <small><a class=\"itype grass\" href=\"/type/grass\">Grass</a> · <a class=\"itype poison\" href=\"/type/poison\">Poison</a></small></span></div>"
      ]
     },
     "execution_count": 12,
     "metadata": {},
     "output_type": "execute_result"
    }
   ],
   "source": [
    "infocards =docHtml.select(CSS_INFOCARDS)\n",
    "infocards[0]"
   ]
  },
  {
   "cell_type": "code",
   "execution_count": 13,
   "id": "6a2e1d12-80bb-41bd-abc7-7de83913c833",
   "metadata": {
    "tags": []
   },
   "outputs": [
    {
     "data": {
      "text/plain": [
       "'<div class=\"infocard\">\\n <span class=\"infocard-lg-img\">\\n  <a href=\"/pokedex/cloyster\">\\n   <picture>\\n    <source srcset=\"https://img.pokemondb.net/sprites/home/normal/2x/avif/cloyster.avif\" type=\"image/avif\"/>\\n    <img alt=\"Cloyster\" class=\"img-fixed img-sprite\" loading=\"lazy\" src=\"https://img.pokemondb.net/sprites/home/normal/2x/cloyster.jpg\"/>\\n   </picture>\\n  </a>\\n </span>\\n <span class=\"infocard-lg-data text-muted\">\\n  <small>\\n   #0091\\n  </small>\\n  <br/>\\n  <a class=\"ent-name\" href=\"/pokedex/cloyster\">\\n   Cloyster\\n  </a>\\n  <br/>\\n  <small>\\n   <a class=\"itype water\" href=\"/type/water\">\\n    Water\\n   </a>\\n   ·\\n   <a class=\"itype ice\" href=\"/type/ice\">\\n    Ice\\n   </a>\\n  </small>\\n </span>\\n</div>\\n'"
      ]
     },
     "execution_count": 13,
     "metadata": {},
     "output_type": "execute_result"
    }
   ],
   "source": [
    "htmlPokemon = infocards[90]\n",
    "htmlPokemon.prettify()"
   ]
  },
  {
   "cell_type": "code",
   "execution_count": 14,
   "id": "7b6f30ed-3f85-4ccb-88ec-5cb925980e5b",
   "metadata": {
    "tags": []
   },
   "outputs": [
    {
     "data": {
      "text/plain": [
       "<div class=\"infocard\"><span class=\"infocard-lg-img\"><a href=\"/pokedex/meowscarada\"><img alt=\"Meowscarada\" class=\"img-fixed img-sprite\" loading=\"lazy\" src=\"https://img.pokemondb.net/sprites/scarlet-violet/normal/meowscarada.png\"/></a></span><span class=\"infocard-lg-data text-muted\"><small>#0908</small><br/> <a class=\"ent-name\" href=\"/pokedex/meowscarada\">Meowscarada</a><br/> <small><a class=\"itype grass\" href=\"/type/grass\">Grass</a> · <a class=\"itype dark\" href=\"/type/dark\">Dark</a></small></span></div>"
      ]
     },
     "execution_count": 14,
     "metadata": {},
     "output_type": "execute_result"
    }
   ],
   "source": [
    "infocards[907]"
   ]
  },
  {
   "cell_type": "code",
   "execution_count": 15,
   "id": "01cadbb2-0df3-4d62-9262-6693cb3cd9a7",
   "metadata": {
    "tags": []
   },
   "outputs": [
    {
     "data": {
      "text/plain": [
       "'#0091'"
      ]
     },
     "execution_count": 15,
     "metadata": {},
     "output_type": "execute_result"
    }
   ],
   "source": [
    "numero = htmlPokemon.select(f\"{CSS_DADOS_POKEMON} small\")[0]\n",
    "numero.text"
   ]
  },
  {
   "cell_type": "code",
   "execution_count": 16,
   "id": "c9413c5b-9323-4772-bdb9-9c6273fb101d",
   "metadata": {
    "tags": []
   },
   "outputs": [
    {
     "data": {
      "text/plain": [
       "[<a class=\"itype water\" href=\"/type/water\">Water</a>,\n",
       " <a class=\"itype ice\" href=\"/type/ice\">Ice</a>]"
      ]
     },
     "execution_count": 16,
     "metadata": {},
     "output_type": "execute_result"
    }
   ],
   "source": [
    "classes = htmlPokemon.select(CSS_CLASSES)\n",
    "classes"
   ]
  },
  {
   "cell_type": "code",
   "execution_count": 19,
   "id": "24c5f299-dedb-485a-9d33-d17ba78976d8",
   "metadata": {
    "tags": []
   },
   "outputs": [
    {
     "data": {
      "text/plain": [
       "'/pokedex/cloyster'"
      ]
     },
     "execution_count": 19,
     "metadata": {},
     "output_type": "execute_result"
    }
   ],
   "source": [
    "htmlPokemon.select_one(CSS_LINK).attrs['href']"
   ]
  },
  {
   "cell_type": "code",
   "execution_count": 20,
   "id": "71016ec7-9260-4c3d-956d-b25211ad3862",
   "metadata": {
    "tags": []
   },
   "outputs": [
    {
     "data": {
      "text/plain": [
       "[<img alt=\"Cloyster\" class=\"img-fixed img-sprite\" loading=\"lazy\" src=\"https://img.pokemondb.net/sprites/home/normal/2x/cloyster.jpg\"/>]"
      ]
     },
     "execution_count": 20,
     "metadata": {},
     "output_type": "execute_result"
    }
   ],
   "source": [
    "htmlPokemon.select(CSS_IMAGEM)"
   ]
  },
  {
   "cell_type": "code",
   "execution_count": 28,
   "id": "b3ec266f-54cd-4e82-ab27-28a4aa1cdd32",
   "metadata": {
    "tags": []
   },
   "outputs": [
    {
     "name": "stdout",
     "output_type": "stream",
     "text": [
      "[INFO] Processando html 1010 de 1010(100%) | Pokemon: Iron Leaves\n",
      "[INFO] Processamento concluído...\n"
     ]
    }
   ],
   "source": [
    "\n",
    "#Convertando tags html para dados\n",
    "\n",
    "# Id do Pokémon (Número)\n",
    "# Nome\n",
    "# Url da imagem\n",
    "# Tipo\n",
    "# Url para os detalhes\n",
    "#-----------------------------\n",
    "# Geração\n",
    "# Espécie\n",
    "# Altura em metros\n",
    "# Peso em quilos\n",
    "# Pontos de HP\n",
    "# Pontos de Ataque\n",
    "# Pontos de Defesa\n",
    "# Pontos de Velocidade\n",
    "# Pontos totais\n",
    "\n",
    "CSS_IMAGEM=\"img.img-fixed\"\n",
    "\n",
    "pokemons = []\n",
    "pokemonsTipo = []\n",
    "\n",
    "htmlPokemons =docHtml.select(CSS_INFOCARDS)\n",
    "contador=1\n",
    "\n",
    "print(f\"[INFO] Processamento iniciado...\")\n",
    "\n",
    "for htmlPokemon in htmlPokemons:\n",
    "    idPokemon = htmlPokemon.select_one(f\"{CSS_DADOS_POKEMON} small\").text\n",
    "\n",
    "    htmlLink = htmlPokemon.select_one(CSS_LINK)\n",
    "    nomePokemon = htmlLink.text\n",
    "    urlDetalhes = htmlLink.attrs[\"href\"]\n",
    "\n",
    "    htmlImagem = htmlPokemon.select_one(CSS_IMAGEM)\n",
    "    urlImagem = htmlImagem.attrs[\"src\"]\n",
    "\n",
    "    htmlTipos = htmlPokemon.select(CSS_CLASSES)\n",
    "    tipos = [tag.text for tag in htmlTipos]\n",
    "    tipoPrimario = tipos[0]\n",
    "    tipoSecundario=\"\"\n",
    "    \n",
    "    if len(tipos)>1:tipoSecundario=tipos[1]\n",
    "\n",
    "    pokemon={\n",
    "        \"id\":idPokemon,\n",
    "        \"nome\":nomePokemon,\n",
    "        \"url_detalhes\":f\"{urlBase}{urlDetalhes}\",\n",
    "        \"tipo_primario\":tipoPrimario,\n",
    "        \"tipo_secundario\":tipoSecundario,\n",
    "        \"url_imagem\":urlImagem,\n",
    "        \"geracao\":\"\",\n",
    "        \"especie\":\"\",\n",
    "        \"altura\":0,\n",
    "        \"peso\":0,\n",
    "        \"hp\":0,\n",
    "        \"ataque\":0,\n",
    "        \"defesa\":0,\n",
    "        \"ataque_especial\":0,\n",
    "        \"defesa_especial\":0,\n",
    "        \"velocidade\":0,\n",
    "        \"stats_total\":0,\n",
    "    }\n",
    "    \n",
    "    pokemons.append(pokemon)\n",
    "    \n",
    "    progresso=contador/len(htmlPokemons)*100\n",
    "\n",
    "    clear_output(wait=True)\n",
    "    print(f\"[INFO] Processando html {contador} de {len(pokemons)}({int(progresso)}%) | Pokemon: {nomePokemon}\")\n",
    "    contador+=1\n",
    "    \n",
    "        \n",
    "    # for tipo in tipos:\n",
    "    #     pokemonTipo = {\n",
    "    #         \"id_pokemon\":idPokemon,\n",
    "    #         \"tipo\":tipo\n",
    "    #     }\n",
    "    #     pokemonsTipo.append(pokemonTipo)\n",
    "    \n",
    "print(f\"[INFO] Processamento concluído...\")"
   ]
  },
  {
   "cell_type": "code",
   "execution_count": 26,
   "id": "27a19304-0d3d-424e-a244-d08b14223b4c",
   "metadata": {
    "tags": []
   },
   "outputs": [
    {
     "data": {
      "text/plain": [
       "<div class=\"infocard\"><span class=\"infocard-lg-img\"><a href=\"/pokedex/sprigatito\"><img alt=\"Sprigatito\" class=\"img-fixed img-sprite\" loading=\"lazy\" src=\"https://img.pokemondb.net/sprites/scarlet-violet/normal/sprigatito.png\"/></a></span><span class=\"infocard-lg-data text-muted\"><small>#0906</small><br/> <a class=\"ent-name\" href=\"/pokedex/sprigatito\">Sprigatito</a><br/> <small><a class=\"itype grass\" href=\"/type/grass\">Grass</a></small></span></div>"
      ]
     },
     "execution_count": 26,
     "metadata": {},
     "output_type": "execute_result"
    }
   ],
   "source": [
    "htmlPokemons[905]"
   ]
  },
  {
   "cell_type": "code",
   "execution_count": 27,
   "id": "21948ea2-bde7-47e7-8f61-59d946c48309",
   "metadata": {
    "tags": []
   },
   "outputs": [
    {
     "data": {
      "text/plain": [
       "<div class=\"infocard\"><span class=\"infocard-lg-img\"><a href=\"/pokedex/enamorus\"><picture><source srcset=\"https://img.pokemondb.net/sprites/home/normal/2x/avif/enamorus.avif\" type=\"image/avif\"/><img alt=\"Enamorus\" class=\"img-fixed img-sprite\" loading=\"lazy\" src=\"https://img.pokemondb.net/sprites/home/normal/2x/enamorus.jpg\"/></picture></a></span><span class=\"infocard-lg-data text-muted\"><small>#0905</small><br/> <a class=\"ent-name\" href=\"/pokedex/enamorus\">Enamorus</a><br/> <small><a class=\"itype fairy\" href=\"/type/fairy\">Fairy</a> · <a class=\"itype flying\" href=\"/type/flying\">Flying</a></small></span></div>"
      ]
     },
     "execution_count": 27,
     "metadata": {},
     "output_type": "execute_result"
    }
   ],
   "source": [
    "htmlPokemons[904]"
   ]
  },
  {
   "cell_type": "code",
   "execution_count": 29,
   "id": "18c5dd64-1ba3-4f98-bbeb-9988cab4beaa",
   "metadata": {
    "tags": []
   },
   "outputs": [
    {
     "data": {
      "text/plain": [
       "[{'id': '#1008',\n",
       "  'nome': 'Miraidon',\n",
       "  'url_detalhes': 'https://pokemondb.net/pokedex/miraidon',\n",
       "  'tipo_primario': 'Electric',\n",
       "  'tipo_secundario': 'Dragon',\n",
       "  'url_imagem': 'https://img.pokemondb.net/sprites/scarlet-violet/normal/miraidon.png',\n",
       "  'geracao': '',\n",
       "  'especie': '',\n",
       "  'altura': 0,\n",
       "  'peso': 0,\n",
       "  'hp': 0,\n",
       "  'ataque': 0,\n",
       "  'defesa': 0,\n",
       "  'ataque_especial': 0,\n",
       "  'defesa_especial': 0,\n",
       "  'velocidade': 0,\n",
       "  'stats_total': 0},\n",
       " {'id': '#1009',\n",
       "  'nome': 'Walking Wake',\n",
       "  'url_detalhes': 'https://pokemondb.net/pokedex/walking-wake',\n",
       "  'tipo_primario': 'Water',\n",
       "  'tipo_secundario': 'Dragon',\n",
       "  'url_imagem': 'https://img.pokemondb.net/sprites/scarlet-violet/normal/walking-wake.png',\n",
       "  'geracao': '',\n",
       "  'especie': '',\n",
       "  'altura': 0,\n",
       "  'peso': 0,\n",
       "  'hp': 0,\n",
       "  'ataque': 0,\n",
       "  'defesa': 0,\n",
       "  'ataque_especial': 0,\n",
       "  'defesa_especial': 0,\n",
       "  'velocidade': 0,\n",
       "  'stats_total': 0},\n",
       " {'id': '#1010',\n",
       "  'nome': 'Iron Leaves',\n",
       "  'url_detalhes': 'https://pokemondb.net/pokedex/iron-leaves',\n",
       "  'tipo_primario': 'Grass',\n",
       "  'tipo_secundario': 'Psychic',\n",
       "  'url_imagem': 'https://img.pokemondb.net/sprites/scarlet-violet/normal/iron-leaves.png',\n",
       "  'geracao': '',\n",
       "  'especie': '',\n",
       "  'altura': 0,\n",
       "  'peso': 0,\n",
       "  'hp': 0,\n",
       "  'ataque': 0,\n",
       "  'defesa': 0,\n",
       "  'ataque_especial': 0,\n",
       "  'defesa_especial': 0,\n",
       "  'velocidade': 0,\n",
       "  'stats_total': 0}]"
      ]
     },
     "execution_count": 29,
     "metadata": {},
     "output_type": "execute_result"
    }
   ],
   "source": [
    "pokemons[-3:]"
   ]
  },
  {
   "cell_type": "code",
   "execution_count": 35,
   "id": "1fc2b96a-30f9-47b4-b17e-91691fc4baaf",
   "metadata": {
    "tags": []
   },
   "outputs": [
    {
     "data": {
      "text/plain": [
       "'https://pokemondb.net/pokedex/eternatus'"
      ]
     },
     "execution_count": 35,
     "metadata": {},
     "output_type": "execute_result"
    }
   ],
   "source": [
    "pokemon389 = pokemons[889]\n",
    "pokemon389[\"url_detalhes\"]"
   ]
  },
  {
   "cell_type": "code",
   "execution_count": 36,
   "id": "8a844d0f-d881-47fb-b382-3af1290ad934",
   "metadata": {
    "tags": []
   },
   "outputs": [],
   "source": [
    "htmlDetalhes = fazerRequisicao(pokemon389[\"url_detalhes\"])"
   ]
  },
  {
   "cell_type": "code",
   "execution_count": 37,
   "id": "ad32040a-3a8f-4f90-830f-fc37ae59db52",
   "metadata": {
    "tags": []
   },
   "outputs": [],
   "source": [
    "CSS_GERACAO = \"p abbr\"\n",
    "CSS_LINHAS_TABELAS = \".vitals-table tr\""
   ]
  },
  {
   "cell_type": "code",
   "execution_count": 38,
   "id": "13f62c22-f6c8-470b-bf9c-3655f8762d96",
   "metadata": {
    "tags": []
   },
   "outputs": [
    {
     "data": {
      "text/plain": [
       "'Generation 8'"
      ]
     },
     "execution_count": 38,
     "metadata": {},
     "output_type": "execute_result"
    }
   ],
   "source": [
    "htmlDetalhes.select_one(CSS_GERACAO).text"
   ]
  },
  {
   "cell_type": "code",
   "execution_count": 41,
   "id": "3d00ca8b-8377-409f-b9f4-17f538b268ec",
   "metadata": {
    "tags": []
   },
   "outputs": [
    {
     "data": {
      "text/plain": [
       "60"
      ]
     },
     "execution_count": 41,
     "metadata": {},
     "output_type": "execute_result"
    }
   ],
   "source": [
    "len(htmlDetalhes.select(CSS_LINHAS_TABELAS))"
   ]
  },
  {
   "cell_type": "code",
   "execution_count": 43,
   "id": "2b799728-5d78-456a-a8fa-c5afe9de1017",
   "metadata": {
    "tags": []
   },
   "outputs": [],
   "source": [
    "def obterDetalhesPokemon(htmlDetalhes):\n",
    "    linhasDeDados = htmlDetalhes.select(CSS_LINHAS_TABELAS)\n",
    "\n",
    "    dados = {}\n",
    "    for linha in linhasDeDados:\n",
    "        titulo = linha.select_one(\"th\")\n",
    "        conteudo= linha.select_one(\"td\")\n",
    "        dados[titulo.text]=conteudo.text.strip().split(\"\\xa0\")[0]\n",
    "\n",
    "    return dados"
   ]
  },
  {
   "cell_type": "code",
   "execution_count": 44,
   "id": "52a45d70-b8ae-4a15-9e53-ad15f755bc09",
   "metadata": {
    "tags": []
   },
   "outputs": [
    {
     "name": "stdout",
     "output_type": "stream",
     "text": [
      "—\n"
     ]
    }
   ],
   "source": [
    "dadosPokemon = obterDetalhesPokemon(htmlDetalhes)\n",
    "print(dadosPokemon[\"Weight\"].split(\"\\xa0\")[0])"
   ]
  },
  {
   "cell_type": "code",
   "execution_count": 45,
   "id": "2da7cbdd-0d53-4ae4-9d63-90ffa55e95cf",
   "metadata": {
    "tags": []
   },
   "outputs": [
    {
     "data": {
      "text/plain": [
       "{'National №': '0890',\n",
       " 'Type': 'Poison Dragon',\n",
       " 'Species': 'Gigantic Pokémon',\n",
       " 'Height': '100.0',\n",
       " 'Weight': '—',\n",
       " 'Abilities': '—',\n",
       " 'Local №': '0400 (Sword/Shield)',\n",
       " 'EV yield': '3 HP',\n",
       " 'Catch rate': '—',\n",
       " 'Base Friendship': '0 (lower than normal)',\n",
       " 'Base Exp.': '563',\n",
       " 'Growth Rate': 'Slow',\n",
       " 'Egg Groups': 'Undiscovered',\n",
       " 'Gender': '—',\n",
       " 'Egg cycles': '120 (30,584–30,840 steps)',\n",
       " 'HP': '255',\n",
       " 'Attack': '115',\n",
       " 'Defense': '250',\n",
       " 'Sp. Atk': '125',\n",
       " 'Sp. Def': '250',\n",
       " 'Speed': '130',\n",
       " 'Total': '1125',\n",
       " 'Sword': 'As a result of Rose’s meddling, Eternatus absorbed all the energy in the Galar region. It’s now in a state of power overload.',\n",
       " 'Shield': 'Infinite amounts of energy pour from this Pokémon’s enlarged core, warping the surrounding space-time.',\n",
       " 'SwordShield': 'Trade/migrate from another game',\n",
       " 'Brilliant DiamondShining PearlLegends: Arceus': 'Not available in this game',\n",
       " 'ScarletViolet': 'Trade/migrate from another game',\n",
       " 'English': 'Eternatus',\n",
       " 'Japanese': 'ムゲンダイナ (Mugendaina)',\n",
       " 'German': 'Endynalos',\n",
       " 'French': 'Éthernatos',\n",
       " 'Italian': 'Eternatus',\n",
       " 'Spanish': 'Eternatus',\n",
       " 'Korean': '무한다이노 (muhandaino)',\n",
       " 'Chinese (Simplified)': '无极汰那',\n",
       " 'Chinese (Traditional)': '無極汰那'}"
      ]
     },
     "execution_count": 45,
     "metadata": {},
     "output_type": "execute_result"
    }
   ],
   "source": [
    "dadosPokemon"
   ]
  },
  {
   "cell_type": "code",
   "execution_count": 46,
   "id": "ce33900c-908a-4d5e-9cc2-7caf17d84c2b",
   "metadata": {
    "tags": []
   },
   "outputs": [
    {
     "name": "stdout",
     "output_type": "stream",
     "text": [
      "[INFO] Extraindo dados 1009 de 1010(99%) | Pokemon: Iron Leaves\n",
      "[OK] Processamento concluído...\n"
     ]
    }
   ],
   "source": [
    "contador=1\n",
    "erros=[]\n",
    "\n",
    "print(f\"[INFO] Processamento iniciado...\")\n",
    "\n",
    "for pokemon in pokemons:\n",
    "    try:\n",
    "        htmlDetalhes = fazerRequisicao(pokemon[\"url_detalhes\"])\n",
    "        dadosPokemon = obterDetalhesPokemon(htmlDetalhes)\n",
    "\n",
    "        geracao = htmlDetalhes.select_one(CSS_GERACAO).text\n",
    "\n",
    "\n",
    "        pokemon['geracao']= geracao.strip()\n",
    "        pokemon['especie']= dadosPokemon['Species']\n",
    "        pokemon['altura']= float(dadosPokemon['Height'])\n",
    "        pokemon['peso']= float(dadosPokemon['Weight'])\n",
    "        pokemon['hp']= int(dadosPokemon['HP'])\n",
    "        pokemon['ataque']= int(dadosPokemon['Attack'])\n",
    "        pokemon['defesa']= int(dadosPokemon['Defense'])\n",
    "        pokemon['ataque_especial']= int(dadosPokemon['Sp. Atk'])\n",
    "        pokemon['defesa_especial']= int(dadosPokemon['Sp. Def'])\n",
    "        pokemon['velocidade']= int(dadosPokemon['Speed'])\n",
    "        pokemon['stats_total']= int(dadosPokemon['Total'])\n",
    "        \n",
    "        progresso=contador/len(pokemons)*100\n",
    "\n",
    "        clear_output(wait=True)\n",
    "        print(f\"[INFO] Extraindo dados {contador} de {len(pokemons)}({int(progresso)}%) | Pokemon: {pokemon['nome']}\")\n",
    "                      \n",
    "        contador+=1\n",
    "\n",
    "    except Exception as e:\n",
    "        erros.append(f\"[ERRO] Erro ao obter detalhes do pokemon {pokemon['nome']} [{contador-1}][{pokemon['url_detalhes']}]. \\n {e}\")\n",
    "    \n",
    "print(f\"[OK] Processamento concluído...\") "
   ]
  },
  {
   "cell_type": "code",
   "execution_count": 48,
   "id": "e578f83e-20d3-4574-9a02-cdd9741c81c7",
   "metadata": {
    "tags": []
   },
   "outputs": [
    {
     "data": {
      "text/plain": [
       "[\"[ERRO] Erro ao obter detalhes do pokemon Eternatus [889][https://pokemondb.net/pokedex/eternatus]. \\n could not convert string to float: '—'\"]"
      ]
     },
     "execution_count": 48,
     "metadata": {},
     "output_type": "execute_result"
    }
   ],
   "source": [
    "erros"
   ]
  },
  {
   "cell_type": "code",
   "execution_count": 50,
   "id": "1fe0bb95-786e-4aec-bb92-d881c25dddee",
   "metadata": {
    "tags": []
   },
   "outputs": [
    {
     "name": "stdout",
     "output_type": "stream",
     "text": [
      "[OK    ] Arquivo salvo: /datasets/pokedex.csv\n"
     ]
    }
   ],
   "source": [
    "dfPokemons = pd.DataFrame.from_dict(pokemons)\n",
    "dfPokemons.to_csv(r'../datasets/pokedex.csv',index=False,sep=';',quoting=csv.QUOTE_ALL,  escapechar=\"\\\\\")\n",
    "print(f'[OK    ] Arquivo salvo: /datasets/pokedex.csv')"
   ]
  },
  {
   "cell_type": "code",
   "execution_count": 51,
   "id": "42862073-f08f-4a91-8d43-3a065f6de972",
   "metadata": {
    "tags": []
   },
   "outputs": [
    {
     "name": "stdout",
     "output_type": "stream",
     "text": [
      "<class 'pandas.core.frame.DataFrame'>\n",
      "RangeIndex: 1010 entries, 0 to 1009\n",
      "Data columns (total 17 columns):\n",
      " #   Column           Non-Null Count  Dtype  \n",
      "---  ------           --------------  -----  \n",
      " 0   id               1010 non-null   object \n",
      " 1   nome             1010 non-null   object \n",
      " 2   url_detalhes     1010 non-null   object \n",
      " 3   tipo_primario    1010 non-null   object \n",
      " 4   tipo_secundario  513 non-null    object \n",
      " 5   url_imagem       1010 non-null   object \n",
      " 6   geracao          1010 non-null   object \n",
      " 7   especie          1010 non-null   object \n",
      " 8   altura           1010 non-null   float64\n",
      " 9   peso             1010 non-null   float64\n",
      " 10  hp               1010 non-null   int64  \n",
      " 11  ataque           1010 non-null   int64  \n",
      " 12  defesa           1010 non-null   int64  \n",
      " 13  ataque_especial  1010 non-null   int64  \n",
      " 14  defesa_especial  1010 non-null   int64  \n",
      " 15  velocidade       1010 non-null   int64  \n",
      " 16  stats_total      1010 non-null   int64  \n",
      "dtypes: float64(2), int64(7), object(8)\n",
      "memory usage: 134.3+ KB\n"
     ]
    }
   ],
   "source": [
    "%matplotlib inline\n",
    "# pd.set_option('display.max_colwidth', -1)\n",
    "sns.set_theme(style=\"darkgrid\")\n",
    "\n",
    "df = pd.read_csv(r'../datasets/pokedex.csv', sep=';', low_memory=False)\n",
    "df.info()"
   ]
  },
  {
   "cell_type": "code",
   "execution_count": 52,
   "id": "fb11e297-d427-4444-bc0a-adc6794ffb4c",
   "metadata": {
    "tags": []
   },
   "outputs": [
    {
     "data": {
      "text/html": [
       "<div>\n",
       "<style scoped>\n",
       "    .dataframe tbody tr th:only-of-type {\n",
       "        vertical-align: middle;\n",
       "    }\n",
       "\n",
       "    .dataframe tbody tr th {\n",
       "        vertical-align: top;\n",
       "    }\n",
       "\n",
       "    .dataframe thead th {\n",
       "        text-align: right;\n",
       "    }\n",
       "</style>\n",
       "<table border=\"1\" class=\"dataframe\">\n",
       "  <thead>\n",
       "    <tr style=\"text-align: right;\">\n",
       "      <th></th>\n",
       "      <th>geracao</th>\n",
       "      <th>id</th>\n",
       "    </tr>\n",
       "  </thead>\n",
       "  <tbody>\n",
       "    <tr>\n",
       "      <th>0</th>\n",
       "      <td>Generation 1</td>\n",
       "      <td>151</td>\n",
       "    </tr>\n",
       "    <tr>\n",
       "      <th>1</th>\n",
       "      <td>Generation 2</td>\n",
       "      <td>100</td>\n",
       "    </tr>\n",
       "    <tr>\n",
       "      <th>2</th>\n",
       "      <td>Generation 3</td>\n",
       "      <td>135</td>\n",
       "    </tr>\n",
       "    <tr>\n",
       "      <th>3</th>\n",
       "      <td>Generation 4</td>\n",
       "      <td>107</td>\n",
       "    </tr>\n",
       "    <tr>\n",
       "      <th>4</th>\n",
       "      <td>Generation 5</td>\n",
       "      <td>156</td>\n",
       "    </tr>\n",
       "    <tr>\n",
       "      <th>5</th>\n",
       "      <td>Generation 6</td>\n",
       "      <td>72</td>\n",
       "    </tr>\n",
       "    <tr>\n",
       "      <th>6</th>\n",
       "      <td>Generation 7</td>\n",
       "      <td>88</td>\n",
       "    </tr>\n",
       "    <tr>\n",
       "      <th>7</th>\n",
       "      <td>Generation 8</td>\n",
       "      <td>96</td>\n",
       "    </tr>\n",
       "    <tr>\n",
       "      <th>8</th>\n",
       "      <td>Generation 9</td>\n",
       "      <td>105</td>\n",
       "    </tr>\n",
       "  </tbody>\n",
       "</table>\n",
       "</div>"
      ],
      "text/plain": [
       "        geracao   id\n",
       "0  Generation 1  151\n",
       "1  Generation 2  100\n",
       "2  Generation 3  135\n",
       "3  Generation 4  107\n",
       "4  Generation 5  156\n",
       "5  Generation 6   72\n",
       "6  Generation 7   88\n",
       "7  Generation 8   96\n",
       "8  Generation 9  105"
      ]
     },
     "execution_count": 52,
     "metadata": {},
     "output_type": "execute_result"
    }
   ],
   "source": [
    "df.groupby([\"geracao\"],as_index=False)[\"id\"].count()"
   ]
  },
  {
   "cell_type": "code",
   "execution_count": 53,
   "id": "1cd2543d-e9ae-4649-b85a-3aa115dc0502",
   "metadata": {
    "tags": []
   },
   "outputs": [
    {
     "data": {
      "text/plain": [
       "[]"
      ]
     },
     "execution_count": 53,
     "metadata": {},
     "output_type": "execute_result"
    },
    {
     "data": {
      "image/png": "[encoded data removed]",
      "text/plain": [
       "<Figure size 640x480 with 1 Axes>"
      ]
     },
     "metadata": {},
     "output_type": "display_data"
    }
   ],
   "source": [
    "ax = sns.countplot(y='geracao',data=df)\n",
    "ax.set_xlabel('Quantidade')\n",
    "ax.set_ylabel('Geração')\n",
    "ax.plot()"
   ]
  },
  {
   "cell_type": "code",
   "execution_count": 54,
   "id": "e6aa9f1d-953c-4998-b1e5-69b03e2727ab",
   "metadata": {
    "tags": []
   },
   "outputs": [
    {
     "data": {
      "text/plain": [
       "[]"
      ]
     },
     "execution_count": 54,
     "metadata": {},
     "output_type": "execute_result"
    },
    {
     "data": {
      "image/png": "[encoded data removed]",
      "text/plain": [
       "<Figure size 640x480 with 1 Axes>"
      ]
     },
     "metadata": {},
     "output_type": "display_data"
    }
   ],
   "source": [
    "ax = sns.countplot(y='tipo_primario',data=df)\n",
    "ax.set_xlabel('Quantidade')\n",
    "ax.set_ylabel('Tipo Primario')\n",
    "ax.plot()"
   ]
  },
  {
   "cell_type": "code",
   "execution_count": 55,
   "id": "e88cbf79-98d1-4c0c-a711-8b0d7b54ce17",
   "metadata": {
    "tags": []
   },
   "outputs": [
    {
     "data": {
      "text/plain": [
       "<seaborn.axisgrid.FacetGrid at 0x1479e9030>"
      ]
     },
     "execution_count": 55,
     "metadata": {},
     "output_type": "execute_result"
    },
    {
     "data": {
      "image/png": "[encoded data removed]",
      "text/plain": [
       "<Figure size 500x500 with 1 Axes>"
      ]
     },
     "metadata": {},
     "output_type": "display_data"
    }
   ],
   "source": [
    "sns.displot(x='stats_total',data=df,kde=True)"
   ]
  },
  {
   "cell_type": "code",
   "execution_count": 57,
   "id": "a595f6f6-5238-4fd2-b7ec-ee3c54ce3ae3",
   "metadata": {
    "tags": []
   },
   "outputs": [
    {
     "data": {
      "text/html": [
       "<div>\n",
       "<style scoped>\n",
       "    .dataframe tbody tr th:only-of-type {\n",
       "        vertical-align: middle;\n",
       "    }\n",
       "\n",
       "    .dataframe tbody tr th {\n",
       "        vertical-align: top;\n",
       "    }\n",
       "\n",
       "    .dataframe thead th {\n",
       "        text-align: right;\n",
       "    }\n",
       "</style>\n",
       "<table border=\"1\" class=\"dataframe\">\n",
       "  <thead>\n",
       "    <tr style=\"text-align: right;\">\n",
       "      <th></th>\n",
       "      <th>id</th>\n",
       "      <th>nome</th>\n",
       "      <th>tipo_primario</th>\n",
       "      <th>geracao</th>\n",
       "      <th>velocidade</th>\n",
       "      <th>url_detalhes</th>\n",
       "    </tr>\n",
       "  </thead>\n",
       "  <tbody>\n",
       "    <tr>\n",
       "      <th>0</th>\n",
       "      <td>#0894</td>\n",
       "      <td>Regieleki</td>\n",
       "      <td>Electric</td>\n",
       "      <td>Generation 8</td>\n",
       "      <td>200</td>\n",
       "      <td>https://pokemondb.net/pokedex/regieleki</td>\n",
       "    </tr>\n",
       "    <tr>\n",
       "      <th>1</th>\n",
       "      <td>#0386</td>\n",
       "      <td>Deoxys</td>\n",
       "      <td>Psychic</td>\n",
       "      <td>Generation 3</td>\n",
       "      <td>180</td>\n",
       "      <td>https://pokemondb.net/pokedex/deoxys</td>\n",
       "    </tr>\n",
       "    <tr>\n",
       "      <th>2</th>\n",
       "      <td>#0795</td>\n",
       "      <td>Pheromosa</td>\n",
       "      <td>Bug</td>\n",
       "      <td>Generation 7</td>\n",
       "      <td>151</td>\n",
       "      <td>https://pokemondb.net/pokedex/pheromosa</td>\n",
       "    </tr>\n",
       "    <tr>\n",
       "      <th>3</th>\n",
       "      <td>#0101</td>\n",
       "      <td>Electrode</td>\n",
       "      <td>Electric</td>\n",
       "      <td>Generation 1</td>\n",
       "      <td>150</td>\n",
       "      <td>https://pokemondb.net/pokedex/electrode</td>\n",
       "    </tr>\n",
       "    <tr>\n",
       "      <th>4</th>\n",
       "      <td>#0617</td>\n",
       "      <td>Accelgor</td>\n",
       "      <td>Bug</td>\n",
       "      <td>Generation 5</td>\n",
       "      <td>145</td>\n",
       "      <td>https://pokemondb.net/pokedex/accelgor</td>\n",
       "    </tr>\n",
       "    <tr>\n",
       "      <th>5</th>\n",
       "      <td>#0991</td>\n",
       "      <td>Iron Bundle</td>\n",
       "      <td>Ice</td>\n",
       "      <td>Generation 9</td>\n",
       "      <td>136</td>\n",
       "      <td>https://pokemondb.net/pokedex/iron-bundle</td>\n",
       "    </tr>\n",
       "    <tr>\n",
       "      <th>6</th>\n",
       "      <td>#0428</td>\n",
       "      <td>Lopunny</td>\n",
       "      <td>Normal</td>\n",
       "      <td>Generation 4</td>\n",
       "      <td>135</td>\n",
       "      <td>https://pokemondb.net/pokedex/lopunny</td>\n",
       "    </tr>\n",
       "    <tr>\n",
       "      <th>7</th>\n",
       "      <td>#0658</td>\n",
       "      <td>Greninja</td>\n",
       "      <td>Water</td>\n",
       "      <td>Generation 6</td>\n",
       "      <td>132</td>\n",
       "      <td>https://pokemondb.net/pokedex/greninja</td>\n",
       "    </tr>\n",
       "    <tr>\n",
       "      <th>8</th>\n",
       "      <td>#0169</td>\n",
       "      <td>Crobat</td>\n",
       "      <td>Poison</td>\n",
       "      <td>Generation 2</td>\n",
       "      <td>130</td>\n",
       "      <td>https://pokemondb.net/pokedex/crobat</td>\n",
       "    </tr>\n",
       "  </tbody>\n",
       "</table>\n",
       "</div>"
      ],
      "text/plain": [
       "      id         nome tipo_primario       geracao  velocidade   \n",
       "0  #0894    Regieleki      Electric  Generation 8         200  \\\n",
       "1  #0386       Deoxys       Psychic  Generation 3         180   \n",
       "2  #0795    Pheromosa           Bug  Generation 7         151   \n",
       "3  #0101    Electrode      Electric  Generation 1         150   \n",
       "4  #0617     Accelgor           Bug  Generation 5         145   \n",
       "5  #0991  Iron Bundle           Ice  Generation 9         136   \n",
       "6  #0428      Lopunny        Normal  Generation 4         135   \n",
       "7  #0658     Greninja         Water  Generation 6         132   \n",
       "8  #0169       Crobat        Poison  Generation 2         130   \n",
       "\n",
       "                                url_detalhes  \n",
       "0    https://pokemondb.net/pokedex/regieleki  \n",
       "1       https://pokemondb.net/pokedex/deoxys  \n",
       "2    https://pokemondb.net/pokedex/pheromosa  \n",
       "3    https://pokemondb.net/pokedex/electrode  \n",
       "4     https://pokemondb.net/pokedex/accelgor  \n",
       "5  https://pokemondb.net/pokedex/iron-bundle  \n",
       "6      https://pokemondb.net/pokedex/lopunny  \n",
       "7     https://pokemondb.net/pokedex/greninja  \n",
       "8       https://pokemondb.net/pokedex/crobat  "
      ]
     },
     "execution_count": 57,
     "metadata": {},
     "output_type": "execute_result"
    }
   ],
   "source": [
    "dfMaisFortesPorTipo = df.sort_values(\"velocidade\", ascending=False).groupby('geracao').head(1).reset_index(drop=True)\n",
    "dfMaisFortesPorTipo[[\"id\",\"nome\",\"tipo_primario\",\"geracao\",\"velocidade\",\"url_detalhes\"]]"
   ]
  },
  {
   "cell_type": "markdown",
   "id": "c76a735b-cbaf-49e1-90e2-8c25109391b6",
   "metadata": {},
   "source": [
    "# Importante!\n",
    "### \n",
    "\n",
    "<br>\n",
    "<center><img src=\"https://psico.online/blog/wp-content/uploads/2016/03/3833081-6535156727-quote-1024x768.jpg\" width=\"500\"/></center>\n",
    "<br>\n",
    "<quote>Esses tópicos devem fornecer uma boa base para desenvolver habilidades em web scraping com Python. É importante lembrar sempre de respeitar os termos de serviço dos sites e evitar a coleta excessiva ou desautorizada de dados.</quote>\n",
    "\n",
    "<hr>\n",
    "<center>\n",
    "<img src=\"https://us.123rf.com/450wm/dizanna/dizanna1904/dizanna190401167/123359082-obrigado-thank-you-in-portuguese-word-cloud-in-different-languages-concept-background.jpg?ver=6\" /></center>"
   ]
  }
 ],
 "metadata": {
  "kernelspec": {
   "display_name": "Python 3 (ipykernel)",
   "language": "python",
   "name": "python3"
  },
  "language_info": {
   "codemirror_mode": {
    "name": "ipython",
    "version": 3
   },
   "file_extension": ".py",
   "mimetype": "text/x-python",
   "name": "python",
   "nbconvert_exporter": "python",
   "pygments_lexer": "ipython3",
   "version": "3.10.11"
  },
  "toc-autonumbering": true,
  "toc-showcode": true,
  "toc-showmarkdowntxt": true
 },
 "nbformat": 4,
 "nbformat_minor": 5
}

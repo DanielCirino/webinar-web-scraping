{
 "cells": [
  {
   "cell_type": "markdown",
   "id": "d2a6121e",
   "metadata": {},
   "source": [
    "# Webinar Webscraping com Python\n",
    "### Uma introdução à extração de dados da web\n",
    "<table>\n",
    "    <tr>\n",
    "        <td width=\"200\"> \n",
    "            <div>\n",
    "                <img src=\"https://placehold.co/50x50/000000/ffffff?text=DC&font=roboto\"/>\n",
    "                <br/>\n",
    "                <h2>Daniel Cirino</h2>\n",
    "                <p>\n",
    "                    <b>LinkedIn</b>: <br/><a style=\"margin-left=5\" href=\"https://www.linkedin.com/in/it-daniel-cirino\">it-daniel-cirino</a>\n",
    "                </p>\n",
    "                <p>\n",
    "                    <b>Github</b>: <br/><a style=\"margin-left=5\" href=\"https://github.com/DanielCirino/\">DanielCirino</a>\n",
    "                </p>\n",
    "                <p>\n",
    "                    <b>Youtube</b>: <br/><a style=\"margin-left=5\" href=\"https://www.youtube.com/channel/UCxzibJdVC5-TtRnRQrgn0PA\">@danielcirino1409</a>\n",
    "                </p>\n",
    "                <p>\n",
    "                    <b>E-mail</b>: <br/><a style=\"margin-left=5\" href=\"mailto: daniel.ciriino.02@gmail.com\">daniel.cirino.02@gmail.com</a>\n",
    "                </p>\n",
    "            </div>\n",
    "        </td>\n",
    "        <td><p>\n",
    "        Graduado em Sistemas de Informação pelo Centro Universitário Senac - São Paulo, Pós Graduado em Ciência de Dados e Big Data pela PUC-MINAS. Já atuou em diversos projetos de migração de dados de processamento de cartão de crédito e desenvolvimento de aplicações para processamento de grande volumes de dados. Atualmente, atua como Product Owner no Banco BMG. Interessa-se por Engenharia e Análise de dados, Machine Learning e Inteligência Artificial,  Engenharia e Desenvolvimento de Software, Metodologias Ágeis.\n",
    "        </td></p>\n",
    "    </tr>\n",
    "</table>\n",
    "\n",
    "\n",
    "\n"
   ]
  },
  {
   "cell_type": "markdown",
   "id": "eaf0a85a",
   "metadata": {
    "tags": []
   },
   "source": [
    "# Agenda\n",
    "\n",
    "<ol>\n",
    "    <li>Dados Estruturados, não estruturados e semistruturados</li>\n",
    "    <li>HTML: O que é? Onde vive e o que come?</li>\n",
    "    <li>Seletores CSS</li>\n",
    "    <li>Requisições HTTP</li>\n",
    "    <li>Sites estáticos x Sites dinâmicos</li>\n",
    "    <li>Tecnologias utilizadas</li>\n",
    "    <li> Hands on</li>\n",
    "</ol>\n"
   ]
  },
  {
   "cell_type": "markdown",
   "id": "be112128-9bee-476c-a26f-7d886c4af878",
   "metadata": {
    "tags": []
   },
   "source": [
    "# Tipos de dados\n",
    "\n",
    "<table>\n",
    "    <tr>\n",
    "        <th>Estruturados</th>\n",
    "        <th>Semi Estruturados</th>\n",
    "        <th>Não Estruturados</th>\n",
    "    </tr>\n",
    "    <tr>\n",
    "        <td><img src=\"https://thumbs.dreamstime.com/b/design-can-be-used-as-logo-icon-as-complement-to-design-diagram-database-logo-icon-design-129008651.jpg\" width=\"200\" /></td>\n",
    "        <td><img src=\"https://blog.nxfacil.com.br/wp-content/uploads/2018/07/xml-1.jpg\" width=\"200\" /></td>\n",
    "        <td><img src=\"https://korntraducoes.com.br/wp-content/uploads/2019/10/transcricao_de_audio_e_video_korn_traducoes.jpg\" width=\"200\" /></td>\n",
    "    </tr>\n",
    "    <tr>\n",
    "        <td>Possuem uma estrutura rígida e previamente definida</td>\n",
    "        <td>Possuem uma estrutura flexível, não são totalmente desestruturados e nem fortemente tipados</td>\n",
    "        <td>Sem estrutura pré-definida</td>\n",
    "    </tr>\n",
    "    <tr>\n",
    "        <td>Organização em relacionamentos e definição de mesmas descrições para doados de um mesmo grupo (atributos)</td>\n",
    "        <td>Auto-descritivo, o esquema de representação está junto com os dados</td>\n",
    "        <td>Cerca de 90% dos dados produzidos estão neste formato</td>\n",
    "    </tr>\n",
    "    <tr>\n",
    "        <td>Ex.: Banco de dados relacionais</td>\n",
    "        <td>Ex.: XML, Json, RDF, OWL</td>\n",
    "        <td>Ex.: Textos, áudios, vídeos, imagens, relatórios</td>\n",
    "    </tr>\n",
    "</table>"
   ]
  },
  {
   "cell_type": "markdown",
   "id": "573be38c-b5f6-4cd0-8660-5f9405934487",
   "metadata": {},
   "source": [
    "# O básico sobre HTML\n",
    "\n",
    "## O que é?\n",
    "HTML (Linguagem de marcação de hipertexto) é uma linguagem de marcação para construção de páginas na WEB,utilizada para anotar texto, imagem, vídeo e outros conteúdos. É comumente utilizada em conjunto com outras tecnologias como o CSS (para aparência e apresentação ou o Javascript (para funcionalidades e comportamento). Documentos HTML podem ser interpretados por navegadores.\n",
    "\n",
    "## Tags HTML\n",
    "Para fazer a marcação de uma página HTML, são utilizados elementos que formam o contéudo da página. O contúdo de um elemento é colocado entre uma tag de abertura (por exemplo ``<html>``) e uma tag de fechamento (por exemplo ``</html>``). As tags são utilizadas para informar ao navegador a estrutura do site, o estilo e o comportamento do site.\n",
    "Uma tag HTML pode receber um ou mais atributos que irão modificar sua estrutura ou funcionalidade, ou ainda indicar um <b>identificador</b> ou uma classe de estilo ao componente.\n",
    "\n",
    "### Exemplos de tags HTML\n",
    "* #### Tags estruturais\n",
    "    * ``<html>``\n",
    "    * ``<head>``\n",
    "    * ``<title>``\n",
    "    * ``<meta>``\n",
    "    * ``<body>``\n",
    "    * ``<header>``\n",
    "    * ``<footer>``\n",
    "    * ``<section>``\n",
    "    * ``<nav>``\n",
    "    * ``<div>``\n",
    "* #### Tags de conteúdo\n",
    "    * Tags de título\n",
    "        * ``<h1>`` a ``<h6>``\n",
    "    * Tags de texto\n",
    "      * ``<p>``\n",
    "      * ``<span>``\n",
    "      * ``<pre>``\n",
    "      * ``<b>``\n",
    "      * ``<i>``\n",
    "      * ``<br>``\n",
    "      * ``<hr>``\n",
    "    * Tag de link\n",
    "        * ``<p>Para acessar o Google, <a href=\"https://www.google.com\">clique aqui.</a></p>``\n",
    "    * Tags de multimídia\n",
    "        * ``<img src=\"imagens/imagem1.jpg\" alt=\"imagem 1 da minha página\">``\n",
    "        * ``<audio>``\n",
    "        * ``<video>``\n",
    "    * Tags de lista\n",
    "        * ``<ul>``, ``<ol>``\n",
    "        * ``<li>``\n",
    "    * Tags de formulário\n",
    "        * ``<form>``\n",
    "        * ``<input type=”text”>``\n",
    "        * ``<textarea></textarea>``\n",
    "* Tags de estilo e script\n",
    "    * ``<style>``\n",
    "    * ``<script>``\n",
    "\n",
    "## Exemplo de código HTML\n",
    "<img src=\"https://cdn.shortpixel.ai/spai/q_glossy+ret_img+to_auto/https://www.webhostingsecretrevealed.net/wp-content/uploads/html-codes.jpg\"/>\n",
    "\n",
    "\n",
    "\n",
    "\n",
    "* [Para saber mais sobre o HTML](https://developer.mozilla.org/pt-BR/docs/Web/HTML)\n",
    "* [E mais aqui](https://www.homehost.com.br/blog/tutoriais/tags-html/#:~:text=As%20tags%20HTML%20s%C3%A3o%20divididas,como%20estrutura%20.)"
   ]
  },
  {
   "cell_type": "markdown",
   "id": "f0d88a9f-1dd1-4690-9d3e-5a913bb03ca4",
   "metadata": {
    "tags": []
   },
   "source": [
    "# Identificando elementos HTML com seletores CSS\n",
    "\n",
    "CSS (Cascade Style Sheet) é uma linguagem de estilo usada para definir a aparência dos elementos de uma página HTML.\n",
    "\n",
    "<img src=\"https://learnwebcode.com/wp-content/uploads/2010/02/anatomy-of-a-css-rule.gif\"/>\n",
    "<hr>\n",
    "<img src=\"https://ptgmedia.pearsoncmg.com/images/chap4_9780136412298/elementLinks/f0114-01.jpg\"/>\n",
    "\n",
    "\n",
    "* [Mais sobre seletores CSS aqui](https://code.tutsplus.com/pt/tutorials/the-30-css-selectors-you-must-memorize--net-16048)"
   ]
  },
  {
   "cell_type": "markdown",
   "id": "bd6ef4c2-0e1e-435b-ab47-7c4c13f78529",
   "metadata": {
    "tags": []
   },
   "source": [
    "# Requisições HTTP\n",
    "\n",
    "<quote>\n",
    "    Requisições HTTP são mensagens enviadas pelo cliente para iniciar uma ação no servidor.\n",
    "</quote>\n",
    "\n",
    "#### Exemplo de uma requisição HTTP\n",
    "<img src=\"https://www.azion.com/static/images/uploads/ds-1191-graphic-08-http-conditional-requests.png\"/>\n",
    "\n",
    "* [Mais sobre requisições HTTP aqui](https://developer.mozilla.org/pt-BR/docs/Web/HTTP/Messages)"
   ]
  },
  {
   "cell_type": "markdown",
   "id": "8bf438a6-364f-4e52-bcb1-38b9e74df8c5",
   "metadata": {
    "tags": []
   },
   "source": [
    "# Sites estáticos x Sites dinâmicos\n",
    "\n",
    "<table>\n",
    "    <tr>\n",
    "        <th><h3>Estático</h3></th>\n",
    "        <th><h3>Dinâmico</h3></th>\n",
    "    </tr>\n",
    "    <tr>\n",
    "        <td><center><img src=\"https://adamtheautomator.com/wp-content/uploads/2020/09/Untitled-2020-09-21T155938.067.png\" width=\"350\"/></center></td>\n",
    "        <td><center><img src=\"https://adamtheautomator.com/wp-content/uploads/2020/09/Untitled-2020-09-21T160015.253.png\" width=\"350\"/></center>\n",
    "        </td>\n",
    "    </tr>\n",
    "    <tr>\n",
    "        <td>Possui conteúdo estável, onde cada usuário vê exatamente a mesma coisa em cada página individual.</td>\n",
    "        <td> O conteúdo é carregado de forma dinâmica, permitindo que ele mude de acordo com o usuário.</td>\n",
    "    </tr>\n",
    "</table>\n",
    "\n",
    "## Exemplo de site dinâmico\n",
    "https://www.pokemon.com/us/pokedex\n",
    "\n",
    "## Site estático do projeto\n",
    "https://pokemondb.net/pokedex/national\n"
   ]
  },
  {
   "cell_type": "markdown",
   "id": "5082cdb1-dd11-4abb-82bf-18cfc0836c02",
   "metadata": {
    "tags": []
   },
   "source": [
    "# Tecnologias utilizadas\n",
    "\n",
    "<table>\n",
    "    <tr>\n",
    "        <td><img src=\"https://logosmarcas.net/wp-content/uploads/2021/10/Python-Logo-650x366.png\" width=\"300\"/></td>\n",
    "        <td>Python é uma linguagem de programação de alto nível, interpretada de script, imperativa, orientada a objetos, funcional, de tipagem dinâmica e forte. Foi lançada por Guido van Rossum em 1991</td>\n",
    "        <td><a href=\"https://www.python.org/\">Documentação</a></td>\n",
    "    </tr>\n",
    "    <tr>\n",
    "        <td><img src=\"https://upload.wikimedia.org/wikipedia/commons/a/aa/Requests_Python_Logo.png\" width=\"200\"/></td>\n",
    "        <td>Requests é uma biblioteca HTTP para a linguagem de programação Python. O objetivo do projeto é tornar as solicitações HTTP mais simples e mais fáceis de usar. A versão atual é 2.28.0. Requests é liberado sob a Licença Apache 2.0. Requests é uma das bibliotecas Python mais populares que não está incluída no Python.</td>\n",
    "        <td><a href=\"https://requests.readthedocs.io/\">Documentação</a></td>\n",
    "    </tr>\n",
    "    <tr>\n",
    "        <td><img src=\"https://cdn.analyticsvidhya.com/wp-content/uploads/2021/04/56856232112.png\" width=\"300\"/></td>\n",
    "        <td>Beautiful Soup é um pacote Python para analisar documentos HTML e XML. Ele cria uma árvore de análise para páginas analisadas que podem ser usadas para extrair dados de HTML, o que é útil para web scraping.</td>\n",
    "        <td><a href=\"https://beautiful-soup-4.readthedocs.io/\">Documentação</a></td>\n",
    "    </tr>\n",
    "</table>"
   ]
  },
  {
   "cell_type": "markdown",
   "id": "2bc40a4c-cdff-4c2c-ab75-01b62a631af6",
   "metadata": {
    "tags": []
   },
   "source": [
    "# Mãos à massa\n",
    "[Repositório do projeto no Github](https://github.com/DanielCirino/webinar-web-scraping)\n",
    "\n",
    "## Objetivo\n",
    "Criar uma base de dados com dados com informações sobre POKÉMONS extraídas de um site da internet. Esta base deverá conter as informações abaixo:\n",
    "* Id do Pokémon (Número)\n",
    "* Nome\n",
    "* Url da imagem\n",
    "* Tipo\n",
    "* Url para os detalhes\n",
    "* Geração\n",
    "* Espécie\n",
    "* Altura em metros\n",
    "* Peso em quilos\n",
    "* Pontos de HP\n",
    "* Pontos de Ataque\n",
    "* Pontos de Defesa\n",
    "* Pontos de Velocidade\n",
    "* Pontos totais"
   ]
  },
  {
   "cell_type": "code",
   "execution_count": null,
   "id": "0b5fbf6b",
   "metadata": {
    "tags": []
   },
   "outputs": [],
   "source": [
    "import requests\n",
    "from bs4 import BeautifulSoup as bs4\n",
    "#bibliotecas para análise de dados\n",
    "import pandas as pd\n",
    "import seaborn as sns\n",
    "import matplotlib.pyplot as plt\n",
    "\n",
    "from IPython.display import clear_output\n",
    "import csv"
   ]
  },
  {
   "cell_type": "code",
   "execution_count": null,
   "id": "bd7572d0-bc11-49a2-837f-d01157a0ca29",
   "metadata": {
    "tags": []
   },
   "outputs": [],
   "source": [
    "urlBase = \"https://pokemondb.net\"\n",
    "session = requests.Session()\n",
    "\n",
    "def fazerRequisicao(url:str):\n",
    "    try:\n",
    "        headers = {\"User-Agent\":\"Mozilla/5.0 (Macintosh; Intel Mac OS X 10_15_7) AppleWebKit/537.36 (KHTML, like Gecko) Chrome/112.0.0.0 Safari/537.36\"}\n",
    "        respostaHttp = session.get(url,headers=headers)\n",
    "        assert respostaHttp.status_code==200\n",
    "\n",
    "        conteudoHtml = respostaHttp.content\n",
    "        docHtml = bs4(conteudoHtml, 'html.parser')\n",
    "        return docHtml\n",
    "    except Exception as e:\n",
    "        print(e)\n",
    "        raise e\n"
   ]
  },
  {
   "cell_type": "code",
   "execution_count": null,
   "id": "647516da-3767-427a-8027-c17a775393f4",
   "metadata": {
    "tags": []
   },
   "outputs": [],
   "source": [
    "docHtml = fazerRequisicao(f\"{urlBase}/pokedex/national\")\n",
    "print(docHtml.title.text)"
   ]
  },
  {
   "cell_type": "code",
   "execution_count": null,
   "id": "a76629dc-6fc2-4040-a1a0-894cc28c253e",
   "metadata": {
    "tags": []
   },
   "outputs": [],
   "source": [
    "CSS_INFOCARDS=\"div.infocard\"\n",
    "\n",
    "CSS_IMAGEM=\"span.infocard-lg-img a picture img\"\n",
    "\n",
    "CSS_DADOS_POKEMON=\"span.infocard-lg-data\"\n",
    "CSS_LINK=f\"{CSS_DADOS_POKEMON} a.ent-name\"\n",
    "CSS_CLASSES=f\"{CSS_DADOS_POKEMON} small a.itype\""
   ]
  },
  {
   "cell_type": "code",
   "execution_count": null,
   "id": "1191d431-a2ef-4417-8ec4-bbd7f3a94a2e",
   "metadata": {
    "tags": []
   },
   "outputs": [],
   "source": [
    "infocards =docHtml.select(CSS_INFOCARDS)\n",
    "print(len(infocards))"
   ]
  },
  {
   "cell_type": "code",
   "execution_count": null,
   "id": "6a2e1d12-80bb-41bd-abc7-7de83913c833",
   "metadata": {
    "tags": []
   },
   "outputs": [],
   "source": [
    "htmlPokemon = infocards[90]\n",
    "htmlPokemon.prettify()"
   ]
  },
  {
   "cell_type": "code",
   "execution_count": null,
   "id": "7b6f30ed-3f85-4ccb-88ec-5cb925980e5b",
   "metadata": {
    "tags": []
   },
   "outputs": [],
   "source": [
    "infocards[907]"
   ]
  },
  {
   "cell_type": "code",
   "execution_count": null,
   "id": "01cadbb2-0df3-4d62-9262-6693cb3cd9a7",
   "metadata": {
    "tags": []
   },
   "outputs": [],
   "source": [
    "numero = htmlPokemon.select(f\"{CSS_DADOS_POKEMON} small\")[0]\n",
    "numero.text"
   ]
  },
  {
   "cell_type": "code",
   "execution_count": null,
   "id": "c9413c5b-9323-4772-bdb9-9c6273fb101d",
   "metadata": {
    "tags": []
   },
   "outputs": [],
   "source": [
    "classes = htmlPokemon.select(CSS_CLASSES)\n",
    "classes"
   ]
  },
  {
   "cell_type": "code",
   "execution_count": null,
   "id": "24c5f299-dedb-485a-9d33-d17ba78976d8",
   "metadata": {
    "tags": []
   },
   "outputs": [],
   "source": [
    "htmlPokemon.select_one(CSS_LINK).attrs['href']"
   ]
  },
  {
   "cell_type": "code",
   "execution_count": null,
   "id": "71016ec7-9260-4c3d-956d-b25211ad3862",
   "metadata": {
    "tags": []
   },
   "outputs": [],
   "source": [
    "htmlPokemon.select(CSS_IMAGEM)"
   ]
  },
  {
   "cell_type": "code",
   "execution_count": null,
   "id": "b3ec266f-54cd-4e82-ab27-28a4aa1cdd32",
   "metadata": {
    "tags": []
   },
   "outputs": [],
   "source": [
    "\n",
    "#Convertando tags html para dados\n",
    "\n",
    "# Id do Pokémon (Número)\n",
    "# Nome\n",
    "# Url da imagem\n",
    "# Tipo\n",
    "# Url para os detalhes\n",
    "#-----------------------------\n",
    "# Geração\n",
    "# Espécie\n",
    "# Altura em metros\n",
    "# Peso em quilos\n",
    "# Pontos de HP\n",
    "# Pontos de Ataque\n",
    "# Pontos de Defesa\n",
    "# Pontos de Velocidade\n",
    "# Pontos totais\n",
    "\n",
    "CSS_IMAGEM=\"img.img-fixed\"\n",
    "\n",
    "pokemons = []\n",
    "pokemonsTipo = []\n",
    "\n",
    "htmlPokemons =docHtml.select(CSS_INFOCARDS)\n",
    "contador=1\n",
    "\n",
    "print(f\"[INFO] Processamento iniciado...\")\n",
    "\n",
    "for htmlPokemon in htmlPokemons:\n",
    "    idPokemon = htmlPokemon.select_one(f\"{CSS_DADOS_POKEMON} small\").text\n",
    "\n",
    "    htmlLink = htmlPokemon.select_one(CSS_LINK)\n",
    "    nomePokemon = htmlLink.text\n",
    "    urlDetalhes = htmlLink.attrs[\"href\"]\n",
    "\n",
    "    htmlImagem = htmlPokemon.select_one(CSS_IMAGEM)\n",
    "    urlImagem = htmlImagem.attrs[\"src\"]\n",
    "\n",
    "    htmlTipos = htmlPokemon.select(CSS_CLASSES)\n",
    "    tipos = [tag.text for tag in htmlTipos]\n",
    "    tipoPrimario = tipos[0]\n",
    "    tipoSecundario=\"\"\n",
    "    \n",
    "    if len(tipos)>1:tipoSecundario=tipos[1]\n",
    "\n",
    "    pokemon={\n",
    "        \"id\":idPokemon,\n",
    "        \"nome\":nomePokemon,\n",
    "        \"url_detalhes\":f\"{urlBase}{urlDetalhes}\",\n",
    "        \"tipo_primario\":tipoPrimario,\n",
    "        \"tipo_secundario\":tipoSecundario,\n",
    "        \"url_imagem\":urlImagem,\n",
    "        \"geracao\":\"\",\n",
    "        \"especie\":\"\",\n",
    "        \"altura\":0,\n",
    "        \"peso\":0,\n",
    "        \"hp\":0,\n",
    "        \"ataque\":0,\n",
    "        \"defesa\":0,\n",
    "        \"ataque_especial\":0,\n",
    "        \"defesa_especial\":0,\n",
    "        \"velocidade\":0,\n",
    "        \"stats_total\":0,\n",
    "    }\n",
    "    \n",
    "    pokemons.append(pokemon)\n",
    "    \n",
    "    progresso=contador/len(htmlPokemons)*100\n",
    "\n",
    "    clear_output(wait=True)\n",
    "    print(f\"[INFO] Processando html {contador} de {len(pokemons)}({int(progresso)}%) | Pokemon: {nomePokemon}\")\n",
    "    contador+=1\n",
    "    \n",
    "        \n",
    "    # for tipo in tipos:\n",
    "    #     pokemonTipo = {\n",
    "    #         \"id_pokemon\":idPokemon,\n",
    "    #         \"tipo\":tipo\n",
    "    #     }\n",
    "    #     pokemonsTipo.append(pokemonTipo)\n",
    "    \n",
    "print(f\"[INFO] Processamento concluído...\")"
   ]
  },
  {
   "cell_type": "code",
   "execution_count": null,
   "id": "18c5dd64-1ba3-4f98-bbeb-9988cab4beaa",
   "metadata": {
    "tags": []
   },
   "outputs": [],
   "source": [
    "pokemons[-3:]"
   ]
  },
  {
   "cell_type": "code",
   "execution_count": null,
   "id": "1fc2b96a-30f9-47b4-b17e-91691fc4baaf",
   "metadata": {
    "tags": []
   },
   "outputs": [],
   "source": [
    "pokemon389 = pokemons[889]\n",
    "pokemon389[\"url_detalhes\"]"
   ]
  },
  {
   "cell_type": "code",
   "execution_count": null,
   "id": "8a844d0f-d881-47fb-b382-3af1290ad934",
   "metadata": {
    "tags": []
   },
   "outputs": [],
   "source": [
    "htmlDetalhes = fazerRequisicao(pokemon389[\"url_detalhes\"])"
   ]
  },
  {
   "cell_type": "code",
   "execution_count": null,
   "id": "ad32040a-3a8f-4f90-830f-fc37ae59db52",
   "metadata": {
    "tags": []
   },
   "outputs": [],
   "source": [
    "CSS_GERACAO = \"p abbr\"\n",
    "CSS_LINHAS_TABELAS = \".vitals-table tr\""
   ]
  },
  {
   "cell_type": "code",
   "execution_count": null,
   "id": "13f62c22-f6c8-470b-bf9c-3655f8762d96",
   "metadata": {
    "tags": []
   },
   "outputs": [],
   "source": [
    "htmlDetalhes.select_one(CSS_GERACAO).text"
   ]
  },
  {
   "cell_type": "code",
   "execution_count": null,
   "id": "3d00ca8b-8377-409f-b9f4-17f538b268ec",
   "metadata": {
    "tags": []
   },
   "outputs": [],
   "source": [
    "len(htmlDetalhes.select(CSS_LINHAS_TABELAS))"
   ]
  },
  {
   "cell_type": "code",
   "execution_count": null,
   "id": "2b799728-5d78-456a-a8fa-c5afe9de1017",
   "metadata": {
    "tags": []
   },
   "outputs": [],
   "source": [
    "def obterDetalhesPokemon(htmlDetalhes):\n",
    "    linhasDeDados = htmlDetalhes.select(CSS_LINHAS_TABELAS)\n",
    "\n",
    "    dados = {}\n",
    "    for linha in linhasDeDados:\n",
    "        titulo = linha.select_one(\"th\")\n",
    "        conteudo= linha.select_one(\"td\")\n",
    "        dados[titulo.text]=conteudo.text.strip().split(\"\\xa0\")[0]\n",
    "\n",
    "    return dados"
   ]
  },
  {
   "cell_type": "code",
   "execution_count": null,
   "id": "52a45d70-b8ae-4a15-9e53-ad15f755bc09",
   "metadata": {
    "tags": []
   },
   "outputs": [],
   "source": [
    "dadosPokemon = obterDetalhesPokemon(htmlDetalhes)\n",
    "print(dadosPokemon[\"Weight\"].split(\"\\xa0\")[0])"
   ]
  },
  {
   "cell_type": "code",
   "execution_count": null,
   "id": "ce33900c-908a-4d5e-9cc2-7caf17d84c2b",
   "metadata": {
    "tags": []
   },
   "outputs": [],
   "source": [
    "contador=1\n",
    "erros=[]\n",
    "\n",
    "print(f\"[INFO] Processamento iniciado...\")\n",
    "\n",
    "for pokemon in pokemons:\n",
    "    try:\n",
    "        htmlDetalhes = fazerRequisicao(pokemon[\"url_detalhes\"])\n",
    "        dadosPokemon = obterDetalhesPokemon(htmlDetalhes)\n",
    "\n",
    "        geracao = htmlDetalhes.select_one(CSS_GERACAO).text\n",
    "\n",
    "\n",
    "        pokemon['geracao']= geracao.strip()\n",
    "        pokemon['especie']= dadosPokemon['Species']\n",
    "        pokemon['altura']= float(dadosPokemon['Height'])\n",
    "        pokemon['peso']= float(dadosPokemon['Weight'])\n",
    "        pokemon['hp']= int(dadosPokemon['HP'])\n",
    "        pokemon['ataque']= int(dadosPokemon['Attack'])\n",
    "        pokemon['defesa']= int(dadosPokemon['Defense'])\n",
    "        pokemon['ataque_especial']= int(dadosPokemon['Sp. Atk'])\n",
    "        pokemon['defesa_especial']= int(dadosPokemon['Sp. Def'])\n",
    "        pokemon['velocidade']= int(dadosPokemon['Speed'])\n",
    "        pokemon['stats_total']= int(dadosPokemon['Total'])\n",
    "        \n",
    "        progresso=contador/len(pokemons)*100\n",
    "\n",
    "        clear_output(wait=True)\n",
    "        print(f\"[INFO] Extraindo dados {contador} de {len(pokemons)}({int(progresso)}%) | Pokemon: {pokemon['nome']}\")\n",
    "                      \n",
    "        contador+=1\n",
    "\n",
    "    except Exception as e:\n",
    "        erros.append(f\"[ERRO] Erro ao obter detalhes do pokemon {pokemon['nome']} [{contador-1}][{pokemon['url_detalhes']}]. \\n {e}\")\n",
    "    \n",
    "print(f\"[OK] Processamento concluído...\") "
   ]
  },
  {
   "cell_type": "code",
   "execution_count": null,
   "id": "e578f83e-20d3-4574-9a02-cdd9741c81c7",
   "metadata": {
    "tags": []
   },
   "outputs": [],
   "source": [
    "erros"
   ]
  },
  {
   "cell_type": "code",
   "execution_count": null,
   "id": "1fe0bb95-786e-4aec-bb92-d881c25dddee",
   "metadata": {
    "tags": []
   },
   "outputs": [],
   "source": [
    "dfPokemons = pd.DataFrame.from_dict(pokemons)\n",
    "dfPokemons.to_csv(r'../datasets/pokedex.csv',index=False,sep=';',quoting=csv.QUOTE_ALL,  escapechar=\"\\\\\")\n",
    "print(f'[OK    ] Arquivo salvo: /datasets/pokedex.csv')"
   ]
  },
  {
   "cell_type": "code",
   "execution_count": null,
   "id": "42862073-f08f-4a91-8d43-3a065f6de972",
   "metadata": {
    "tags": []
   },
   "outputs": [],
   "source": [
    "%matplotlib inline\n",
    "# pd.set_option('display.max_colwidth', -1)\n",
    "sns.set_theme(style=\"darkgrid\")\n",
    "\n",
    "df = pd.read_csv(r'../datasets/pokedex.csv', sep=';', low_memory=False)\n",
    "df.info()"
   ]
  },
  {
   "cell_type": "code",
   "execution_count": null,
   "id": "fb11e297-d427-4444-bc0a-adc6794ffb4c",
   "metadata": {
    "tags": []
   },
   "outputs": [],
   "source": [
    "df.groupby([\"geracao\"],as_index=False)[\"id\"].count()"
   ]
  },
  {
   "cell_type": "code",
   "execution_count": null,
   "id": "1cd2543d-e9ae-4649-b85a-3aa115dc0502",
   "metadata": {
    "tags": []
   },
   "outputs": [],
   "source": [
    "ax = sns.countplot(y='geracao',data=df)\n",
    "ax.set_xlabel('Quantidade')\n",
    "ax.set_ylabel('Geração')\n",
    "ax.plot()"
   ]
  },
  {
   "cell_type": "code",
   "execution_count": null,
   "id": "e6aa9f1d-953c-4998-b1e5-69b03e2727ab",
   "metadata": {
    "tags": []
   },
   "outputs": [],
   "source": [
    "ax = sns.countplot(y='tipo_primario',data=df)\n",
    "ax.set_xlabel('Quantidade')\n",
    "ax.set_ylabel('Tipo Primario')\n",
    "ax.plot()"
   ]
  },
  {
   "cell_type": "code",
   "execution_count": null,
   "id": "e88cbf79-98d1-4c0c-a711-8b0d7b54ce17",
   "metadata": {
    "tags": []
   },
   "outputs": [],
   "source": [
    "sns.displot(x='stats_total',data=df,kde=True)"
   ]
  },
  {
   "cell_type": "code",
   "execution_count": null,
   "id": "a595f6f6-5238-4fd2-b7ec-ee3c54ce3ae3",
   "metadata": {
    "tags": []
   },
   "outputs": [],
   "source": [
    "dfMaisFortesPorTipo = df.sort_values(\"stats_total\", ascending=False).groupby('geracao').head(1).reset_index(drop=True)\n",
    "dfMaisFortesPorTipo[[\"id\",\"nome\",\"tipo_primario\",\"geracao\",\"stats_total\",\"url_detalhes\"]]"
   ]
  },
  {
   "cell_type": "markdown",
   "id": "c76a735b-cbaf-49e1-90e2-8c25109391b6",
   "metadata": {},
   "source": [
    "# Importante!\n",
    "### \n",
    "\n",
    "<br>\n",
    "<center><img src=\"https://psico.online/blog/wp-content/uploads/2016/03/3833081-6535156727-quote-1024x768.jpg\" width=\"500\"/></center>\n",
    "<br>\n",
    "<quote>Esses tópicos devem fornecer uma boa base para desenvolver habilidades em web scraping com Python. É importante lembrar sempre de respeitar os termos de serviço dos sites e evitar a coleta excessiva ou desautorizada de dados.</quote>\n",
    "\n",
    "<hr>\n",
    "<center>\n",
    "<img src=\"https://us.123rf.com/450wm/dizanna/dizanna1904/dizanna190401167/123359082-obrigado-thank-you-in-portuguese-word-cloud-in-different-languages-concept-background.jpg?ver=6\" /></center>"
   ]
  }
 ],
 "metadata": {
  "kernelspec": {
   "display_name": "Python 3 (ipykernel)",
   "language": "python",
   "name": "python3"
  },
  "language_info": {
   "codemirror_mode": {
    "name": "ipython",
    "version": 3
   },
   "file_extension": ".py",
   "mimetype": "text/x-python",
   "name": "python",
   "nbconvert_exporter": "python",
   "pygments_lexer": "ipython3",
   "version": "3.10.11"
  },
  "toc-autonumbering": true,
  "toc-showcode": true,
  "toc-showmarkdowntxt": true
 },
 "nbformat": 4,
 "nbformat_minor": 5
}

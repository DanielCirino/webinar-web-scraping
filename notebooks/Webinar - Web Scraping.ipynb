{
 "cells": [
  {
   "cell_type": "markdown",
   "id": "d2a6121e",
   "metadata": {},
   "source": [
    "# Webinar Webscraping com Python\n",
    "### Uma introdução à extração de dados da web\n",
    "\n",
    "#### Daniel Cirino do Vale\n",
    "\n",
    "Graduado em Sistemas de Informação pelo Centro Universitário Senac - São Paulo, Pós Graduado em Ciência de Dados e Big Data pela PUC-MINAS. Já atuou em diversos projetos de migração de dados de processamento de cartão de crédito e desenvolvimento de aplicações para processamento de grande volumes de dados. Atualmente, atua como Product Owner no Banco BMG. Interessa-se por Engenharia e Análise de dados, Machine Learning e Inteligência Artificial,  Engenharia e Desenvolvimento de Software, Metodologias Ágeis."
   ]
  },
  {
   "cell_type": "markdown",
   "id": "eaf0a85a",
   "metadata": {},
   "source": [
    "* Dados Estruturados e Não Estruturados\n",
    "* Estrutura básica de uma página HTML\n",
    "* Requisições HTTP\n",
    "* Bibliotecas utilizadas\n",
    "* Hands on"
   ]
  },
  {
   "cell_type": "code",
   "execution_count": 1,
   "id": "0b5fbf6b",
   "metadata": {
    "tags": []
   },
   "outputs": [],
   "source": [
    "import requests\n",
    "from bs4 import BeautifulSoup as bs4"
   ]
  }
 ],
 "metadata": {
  "kernelspec": {
   "display_name": "Python 3 (ipykernel)",
   "language": "python",
   "name": "python3"
  },
  "language_info": {
   "codemirror_mode": {
    "name": "ipython",
    "version": 3
   },
   "file_extension": ".py",
   "mimetype": "text/x-python",
   "name": "python",
   "nbconvert_exporter": "python",
   "pygments_lexer": "ipython3",
   "version": "3.9.6"
  }
 },
 "nbformat": 4,
 "nbformat_minor": 5
}
